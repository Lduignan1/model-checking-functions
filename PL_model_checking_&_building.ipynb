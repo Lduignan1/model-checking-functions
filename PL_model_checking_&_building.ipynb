{
  "cells": [
    {
      "cell_type": "code",
      "execution_count": null,
      "metadata": {
        "id": "iyt7crDHAbcS"
      },
      "outputs": [],
      "source": [
        "# Checks that `o` is an instance of `t` (ex: integer, list). Produces a clear error message otherwise.\n",
        "# This function is not essential but can help a lot for debugging.\n",
        "def check_type(o, t, name=None):\n",
        "\tif(name is None): name = \"[no name]\"\n",
        "\tassert isinstance(o, t), (f\"Type problem: variable {name} (type: {type(o)}; value: {o}) is not an instance of {t}\")"
      ]
    },
    {
      "cell_type": "code",
      "execution_count": null,
      "metadata": {
        "id": "Zm0uCqezAr7x"
      },
      "outputs": [],
      "source": [
        "# Example 1:\n",
        "check_type([1,2,3], list) # Works fine because [1,2,3] is indeed a list."
      ]
    },
    {
      "cell_type": "code",
      "execution_count": null,
      "metadata": {
        "id": "vldi91e7AvZe"
      },
      "outputs": [],
      "source": [
        "# Example 2:\n",
        "# check_type(1, list) # An AssertionError exception is raised because 1 is not a list."
      ]
    },
    {
      "cell_type": "markdown",
      "metadata": {
        "id": "o9xR9BHHDCXV"
      },
      "source": [
        "## 1) Model checking"
      ]
    },
    {
      "cell_type": "markdown",
      "metadata": {
        "id": "3TTTWADTBQCU"
      },
      "source": [
        "*   In Propositional Logic, a model is simply an interpretation function.\n",
        "*   An interpretation function is a function that sends each propositional letter to a boolean value.\n",
        "*   In this TP, strings are used to represent propositional letters.\n",
        "*   Remark: The properties and methods of a class that have a name starting with an underscore (\"_\"; ex: `self._true_ps`) are not meant to be accessed directly outside of this class, but only within the class itself (in other words, they are *private*). While Python will not say anything special if you do not respect this convention, you definitely should.\n"
      ]
    },
    {
      "cell_type": "code",
      "execution_count": null,
      "metadata": {
        "id": "F2KPsMZoA6h_"
      },
      "outputs": [],
      "source": [
        "# For interpretation functions.\n",
        "class InterpretationFunc:\n",
        "\t# true_ps: set of strings\n",
        "\tdef __init__(self, true_ps):\n",
        "\t\tcheck_type(true_ps, set, \"true_ps\")\n",
        "\t\t\n",
        "\t\tself._true_ps = true_ps\n",
        "\t\n",
        "\t# Remark: __call__ can be called using the ()-notation: \"i(p)\" is translated as \"i.__call__(p)\". Use the ()-notation instead of calling __call__ explicitly.\n",
        "\t# Returns the interpretation of `p`.\n",
        "\t# p: string\n",
        "\tdef __call__(self, p):\n",
        "\t\tcheck_type(p, str, \"p\")\n",
        "\t\t\n",
        "\t\treturn (p in self._true_ps)\n",
        "\t\n",
        "\t# Returns a string representation of the object. Used to print the object in a readable way.\n",
        "\tdef __str__(self):\n",
        "\t\treturn str(self._true_ps)"
      ]
    },
    {
      "cell_type": "markdown",
      "metadata": {
        "id": "bLY05s0qBb45"
      },
      "source": [
        "# Instructions\n",
        "*  Instanciate `i_func`, the interpretation function that associates True to both \"p\" and \"r\" and False to any other propositional letter.\n",
        "*  Then, print the interpretation of \"p\" and \"q\" respectively."
      ]
    },
    {
      "cell_type": "code",
      "execution_count": null,
      "metadata": {
        "colab": {
          "base_uri": "https://localhost:8080/"
        },
        "id": "3dejL-QXBXdA",
        "outputId": "d2703187-de04-4410-ed45-d50fc6b0b6be"
      },
      "outputs": [
        {
          "name": "stdout",
          "output_type": "stream",
          "text": [
            "Interpretation of p = True\n",
            "Interpretation of q = False\n"
          ]
        }
      ],
      "source": [
        "i_func = InterpretationFunc({'p','r'})        \n",
        "\n",
        "print(f\"Interpretation of p = {i_func('p')}\")\n",
        "print(f\"Interpretation of q = {i_func('q')}\")"
      ]
    },
    {
      "cell_type": "markdown",
      "metadata": {
        "id": "feWX1b1YBkK_"
      },
      "source": [
        "*  For this TP, any formula is represented by an instance of the class `Formula` (in fact, of some sub-class of `Formula`).\n",
        "*  There is one sub-class for each \"kind\" of formulas:, that is to say for each clause in the inductive definition of the language of PL."
      ]
    },
    {
      "cell_type": "code",
      "execution_count": null,
      "metadata": {
        "id": "-0B_nqT2Bqmq"
      },
      "outputs": [],
      "source": [
        "# The general class for logical formulas.\n",
        "# This class is sub-classed below.\n",
        "class Formula:\n",
        "\tpass;"
      ]
    },
    {
      "cell_type": "markdown",
      "metadata": {
        "id": "NhYW2jGnBvau"
      },
      "source": [
        "# Instructions\n",
        "*  `PLetter` is the sub-class corresponding to formulas composed of a single propositional letter (1st clause in the definition of the language of PL).\n",
        "*  Complete `PLetter.check`.\n",
        "*  Then, instantiate three formulas, composed of propositional letters \"p\", \"q\" and \"r\" respectively, and print their interpretation according to `i_func`.\n",
        "*  (Ignore the `build` method, which will only be useful in the second section below.)"
      ]
    },
    {
      "cell_type": "code",
      "execution_count": null,
      "metadata": {
        "id": "f4Lff_4OBswk"
      },
      "outputs": [],
      "source": [
        "# For atomic formulas (i.e. that are composed of a single propositional letter only).\n",
        "class PLetter(Formula):\n",
        "\t# p: string\n",
        "\tdef __init__(self, p):\n",
        "\t\tcheck_type(p, str, \"p\")\n",
        "\t\t\n",
        "\t\tself._p = p\n",
        "\t\n",
        "\t# Checks whether the formula is true according to the interpretation function `i_func`.\n",
        "\t# i_func: InterpretationFunc\n",
        "\tdef check(self, i_func):\n",
        "\t\tcheck_type(i_func, InterpretationFunc, \"i_func\")\n",
        "\t\t\n",
        "\t\treturn i_func(self._p)\n",
        "\t\n",
        "\t# Returns the list of all (minimal) partial interpretation functions for which the valuation of the formula is the boolean value `value`.\n",
        "\t# If `value` is not specified, the default value True is used.\n",
        "\t# (If you know what an iterator is, you can return an iterator instead of a list.)\n",
        "\tdef build(self, value=True):\n",
        "\t\tcheck_type(value, bool, \"value\")\n",
        "\t\t\n",
        "\t\treturn [PartialInterpretationFunc({self._p: value})]\n",
        "\t\n",
        "\t# Returns a string representation of the object. Used to print the object in a readable way.\n",
        "\tdef __str__(self):\n",
        "\t\treturn self._p"
      ]
    },
    {
      "cell_type": "code",
      "execution_count": null,
      "metadata": {
        "colab": {
          "base_uri": "https://localhost:8080/"
        },
        "id": "EoPZbYmjUYGD",
        "outputId": "203a253a-1624-4377-a2ef-dbf4f97dd300"
      },
      "outputs": [
        {
          "name": "stdout",
          "output_type": "stream",
          "text": [
            "I(p) = True\n",
            "I(q) = False\n",
            "I(r) = True\n"
          ]
        }
      ],
      "source": [
        "p = PLetter('p')\n",
        "q = PLetter('q')\n",
        "r = PLetter('r')\n",
        "\n",
        "for i in [p, q, r]:\n",
        "  print(f\"I({i}) = {i.check(i_func)}\")"
      ]
    },
    {
      "cell_type": "markdown",
      "metadata": {
        "id": "vd8kcw02CIdA"
      },
      "source": [
        "# Instructions\n",
        "*  Complete `Neg.check`. Tip: Take a look again at the slide that contains the definition of valuation functions in PL.\n",
        "*  Using `Neg`, instantiate several formulas and print their interpretation according to `i_func`. (Advice: Instantiate enough formulas to check that everything works as expected.)"
      ]
    },
    {
      "cell_type": "code",
      "execution_count": null,
      "metadata": {
        "id": "nbt857c6CFV_"
      },
      "outputs": [],
      "source": [
        "# Negation\n",
        "class Neg(Formula):\n",
        "\t# phi: Formula\n",
        "\tdef __init__(self, phi):\n",
        "\t\tcheck_type(phi, Formula, \"phi\")\n",
        "\t\t\n",
        "\t\tself._phi = phi\n",
        "\t\n",
        "\t# Checks whether the formula is true according to the interpretation function `i_func`.\n",
        "\t# i_func: InterpretationFunc\n",
        "\tdef check(self, i_func):\n",
        "\t\tcheck_type(i_func, InterpretationFunc, \"i_func\")\n",
        "\t\t\n",
        "\t\t# returns True if the formula is False and False otherwise\n",
        "\t\treturn not self._phi.check(i_func)\n",
        "\t\n",
        "\t# Returns the list of all (minimal) partial interpretation functions for which the valuation of the formula is the boolean value `value`.\n",
        "\t# If `value` is not specified, the default value True is used.\n",
        "\t# (If you know what an iterator is, you can return an iterator instead of a list.)\n",
        "\tdef build(self, value=True):\n",
        "\t\tcheck_type(value, bool, \"value\")\n",
        "\t\t\n",
        "\t\treturn self._phi.build(not value)\n",
        "\t\n",
        "\t# Returns a string representation of the object. Used to print the object in a readable way.\n",
        "\tdef __str__(self):\n",
        "\t\treturn f'(¬{self._phi})'"
      ]
    },
    {
      "cell_type": "code",
      "execution_count": null,
      "metadata": {
        "colab": {
          "base_uri": "https://localhost:8080/"
        },
        "id": "nEdjKv4YUWWW",
        "outputId": "aa8e2937-49d6-402d-b0f6-f74d7cf215cc"
      },
      "outputs": [
        {
          "name": "stdout",
          "output_type": "stream",
          "text": [
            "I(p) = True\n",
            "⟦(¬p)⟧ = False\n",
            "⟦(¬(¬p))⟧ = True\n",
            "\n"
          ]
        }
      ],
      "source": [
        "neg_p = Neg(p)           # (¬p)\n",
        "neg_neg_p = Neg(Neg(p))  # (¬(¬p))\n",
        "\n",
        "print(f\"I({p}) = {p.check(i_func)}\")\n",
        "print(f\"⟦{neg_p}⟧ = {neg_p.check(i_func)}\")\n",
        "print(f\"⟦{neg_neg_p}⟧ = {neg_neg_p.check(i_func)}\\n\")"
      ]
    },
    {
      "cell_type": "markdown",
      "metadata": {
        "id": "dbdp25KxCR9W"
      },
      "source": [
        "# Instructions\n",
        "*  Complete `Conj.check`.\n",
        "*  Using `Conj`, instantiate several formulas and print their interpretation according to `i_func`. (Advice: Instantiate enough formulas to check that everything works as expected.)"
      ]
    },
    {
      "cell_type": "code",
      "execution_count": null,
      "metadata": {
        "id": "CuqtMxSsCPoe"
      },
      "outputs": [],
      "source": [
        "# Conjunction\n",
        "class Conj(Formula):\n",
        "\t# phi: Formula\n",
        "\t# psi: Formula\n",
        "\tdef __init__(self, phi, psi):\n",
        "\t\tcheck_type(phi, Formula, \"phi\")\n",
        "\t\tcheck_type(psi, Formula, \"psi\")\n",
        "\t\t\n",
        "\t\tself._phi = phi\n",
        "\t\tself._psi = psi\n",
        "\t\n",
        "\t# Checks whether the formula is true according to the interpretation function `i_func`.\n",
        "\t# i_func: InterpretationFunc\n",
        "\tdef check(self, i_func):\n",
        "\t\tcheck_type(i_func, InterpretationFunc, \"i_func\")\n",
        "\t\t\n",
        "\t\treturn self._phi.check(i_func) and self._psi.check(i_func)\n",
        "\t\n",
        "\t# Returns the list of all (minimal) partial interpretation functions for which the valuation of the formula is the boolean value `value`.\n",
        "\t# If `value` is not specified, the default value True is used.\n",
        "\t# (If you know what an iterator is, you can return an iterator instead of a list.)\n",
        "\tdef build(self, value=True):\n",
        "\t\tcheck_type(value, bool, \"value\")\n",
        "\n",
        "\t\tresult = []\n",
        "\t\tif value:\n",
        "\t\t\tfor cur_phi in self._phi.build(True):\n",
        "\t\t\t\tfor cur_psi in self._psi.build(True):\n",
        "\t\t\t\t\tif cur_phi.merge(cur_psi) is not None:\n",
        "\t\t\t\t\t\tresult.append(cur_phi.merge(cur_psi))\n",
        "\t\telse:\n",
        "\t\t\tfor cur_phi in self._phi.build(False):\n",
        "\t\t\t\tcur_phi_str = str(cur_phi)\t\t\t\t\t\t\t\t# workaround\n",
        "\t\t\t\tresult_str = str(result)\t\t\t\t\t\t\t\t\t# workaround\n",
        "\t\t\t\tif result_str.find(cur_phi_str) == -1:\t\t# workaround\n",
        "\t\t\t\t\tresult.append(cur_phi)\n",
        "\t\t\tfor cur_psi in self._psi.build(False):\n",
        "\t\t\t\ti_func_str = str(cur_psi)\t\t\t\t\t\t\t\t\t# workaround\n",
        "\t\t\t\tresult_str = str(result)\t\t\t\t\t\t\t\t\t# workaround\n",
        "\t\t\t\tif result_str.find(i_func_str) == -1:\t\t\t# workaround\n",
        "\t\t\t\t\tresult.append(cur_psi)\n",
        "\t\treturn result\n",
        "\t\t\n",
        "\t# Returns a string representation of the object. Used to print the object in a readable way.\n",
        "\tdef __str__(self):\n",
        "\t\treturn f\"({self._phi} ∧ {self._psi})\""
      ]
    },
    {
      "cell_type": "code",
      "execution_count": null,
      "metadata": {
        "colab": {
          "base_uri": "https://localhost:8080/"
        },
        "id": "YNtaRyiAUclv",
        "outputId": "69b3ce7a-0f90-497c-b050-4b1059264f2e"
      },
      "outputs": [
        {
          "name": "stdout",
          "output_type": "stream",
          "text": [
            "___ Test 1 ___\n",
            "I(p) = True\n",
            "I(q) = False\n",
            "⟦(p ∧ q)⟧ = False\n",
            "\n",
            "___ Test 2 ___\n",
            "I(p) = True\n",
            "I(r) = True\n",
            "⟦(p ∧ r)⟧ = True\n",
            "\n",
            "___ Test 3 ___\n",
            "I(p) = True\n",
            "⟦(¬q)⟧ = True\n",
            "⟦(p ∧ (¬q))⟧ = True\n",
            "\n",
            "___ Test 4 ___\n",
            "⟦(p ∧ r)⟧ = True\n",
            "⟦(p ∧ (¬q))⟧ = True\n",
            "⟦((p ∧ r) ∧ (p ∧ (¬q)))⟧ = True\n",
            "\n"
          ]
        }
      ],
      "source": [
        "p_and_q = Conj(p, q)                                    # (p ∧ q)\n",
        "print(\"___ Test 1 ___\")\n",
        "print(f\"I({p}) = {p.check(i_func)}\")\n",
        "print(f\"I({q}) = {q.check(i_func)}\")\n",
        "print(f\"⟦{p_and_q}⟧ = {p_and_q.check(i_func)}\\n\")\n",
        "\n",
        "p_and_r = Conj(p, r)                                    # (p ∧ r)\n",
        "print(\"___ Test 2 ___\")\n",
        "print(f\"I({p}) = {p.check(i_func)}\")\n",
        "print(f\"I({r}) = {r.check(i_func)}\")\n",
        "print(f\"⟦{p_and_r}⟧ = {p_and_r.check(i_func)}\\n\")\n",
        "\n",
        "neg_q = Neg(q)                                          # (¬q)\n",
        "p_and_neg_q = Conj(p, neg_q)                            # (p ∧ (¬q))\n",
        "print(\"___ Test 3 ___\")\n",
        "print(f\"I({p}) = {p.check(i_func)}\")\n",
        "print(f\"⟦{neg_q}⟧ = {neg_q.check(i_func)}\")\n",
        "print(f\"⟦{p_and_neg_q}⟧ = {p_and_neg_q.check(i_func)}\\n\")\n",
        "\n",
        "p_and_r_conj_p_and_neg_q = Conj(p_and_r, p_and_neg_q)   # ((p ∧ r) ∧ (p ∧ (¬q)))\n",
        "print(\"___ Test 4 ___\")\n",
        "print(f\"⟦{p_and_r}⟧ = {p_and_r.check(i_func)}\")\n",
        "print(f\"⟦{p_and_neg_q}⟧ = {p_and_neg_q.check(i_func)}\")\n",
        "print(f\"⟦{p_and_r_conj_p_and_neg_q}⟧ = {p_and_r_conj_p_and_neg_q.check(i_func)}\\n\")"
      ]
    },
    {
      "cell_type": "markdown",
      "metadata": {
        "id": "Q2twbkwZC7qF"
      },
      "source": [
        "## 2) Model building"
      ]
    },
    {
      "cell_type": "markdown",
      "metadata": {
        "id": "EBbOKEm7Cfnw"
      },
      "source": [
        "*  To compute which interpretation functions (i.e. models) make true a given formula, we are going to use *partial* interpretation functions.\n",
        "*  We use a partial interpretation function to represent the conditions that are minimally *sufficient* to make a given formula true (or false). A list of such functions represents a disjunction of conditions. We use such a list to represent the *necessary and sufficient* conditions to make a given formula true (or false).\n",
        "*  Examples:\n",
        "   *  The atomic formula p is made true by any interpretation function that sends p to True. The set of all these interpretation functions is here represented as the partial interpretation function that sends p to True. (We use a list of length 1.)\n",
        "   *  Formula p ∨ ¬q is made true by any function that sends p to True and by any function that sends q to False. The set of all these functions is here represented with two partial functions: one that sends p to True and one that q to False. (We use a list of length 2.)\n",
        "   *  Formula p ∧ ¬q is made true by any function that sends p to True and q to False. The set of all these functions is here represented as the partial interpretation function that sends p to True and q to False. (We use a list of size 1.)\n",
        "   *  Formula p ∧ ¬p is made true by no function. The empty set is here represented without any partial interpretation function. (We use a list of size 0.)\n",
        "   *  Formula p ∨ ¬p is made true by all interpretation functions, but equivalently, one can say that it is made true by any function that sends p to True and by any function that sends p to False. The set of all these functions is here represented with two partial functions: one that sends p to True and one that p to False. (We use a list of length 2.)\n",
        "*  A partial interpretation function can be instantiated\n",
        "   *  either directly — using the constructor (i.e. the `__init__` method) — from a dictionary that associates boolean values to strings (that represents propositional letters), \n",
        "   *  or — using the `merge` method — from two compatible interpretation functions that are then merged (\"compatible\" means that they do not disagree on the interpretation of any propositional letter)."
      ]
    },
    {
      "cell_type": "code",
      "execution_count": null,
      "metadata": {
        "id": "R2ltwjLLCbOy"
      },
      "outputs": [],
      "source": [
        "# For partial interpretation functions. They send only some propositional letters to a truth value.\n",
        "class PartialInterpretationFunc:\n",
        "\t# dic: dictionary; keys are strings, values are booleans\n",
        "\tdef __init__(self, dic):\n",
        "\t\tcheck_type(dic, dict, \"dic\")\n",
        "\t\t\n",
        "\t\tself.dic = dic\n",
        "\t\n",
        "\t# Returns the partial interpretation function obtained by merging this function with `other_func`, or None if they are incompatible.\n",
        "\t# Neither partial functions are changed, a new function is created.\n",
        "\tdef merge(self, other_func):\n",
        "\t\tcheck_type(other_func, PartialInterpretationFunc, \"other_func\")\n",
        "\t\t\n",
        "\t\tdic = dict(self.dic) # Makes a copy of `self.dic`.\n",
        "\t\tfor p, v in other_func.dic.items(): # Iterates over all (propositional letter --> truth value) pairs in `other_func`.\n",
        "\t\t\tif(self.dic.get(p, v) != v): return None # If `p` is sent to a value other than `v`.\n",
        "\t\t\tdic[p] = v\n",
        "\t\t\n",
        "\t\treturn PartialInterpretationFunc(dic)\n",
        "\t\n",
        "\t# Remark: __call__ can be called using the ()-notation: \"i(p)\" is translated as \"i.__call__(p)\".\n",
        "\t# Returns the interpretation of `p`.\n",
        "\t# x: string\n",
        "\tdef __call__(self, p):\n",
        "\t\tcheck_type(p, str, \"p\")\n",
        "\t\t\n",
        "\t\treturn self.dic[p]\n",
        "\t\n",
        "\t# Returns a string representation of the object. Used to print the object in a readable way.\n",
        "\tdef __str__(self):\n",
        "\t\treturn str(self.dic)\n",
        "\t\n",
        "\t# Returns a string representation of the object. Also used to print the object in a readable way.\n",
        "\tdef __repr__(self):\n",
        "\t\treturn str(self)"
      ]
    },
    {
      "cell_type": "markdown",
      "metadata": {
        "id": "fg0Jqxjau7w6"
      },
      "source": [
        "# Instructions\n",
        "*   Instantiate the list of partial interpretation functions that represents the set of all interpretation functions that sends p to `True`, or q to `False`, or r to `True` (these are the necessary and sufficient conditions to make (p ∨ ¬q ∨ r) true).\n",
        "*   Instantiate the list of partial interpretation function(s) that represents the necessary and sufficient conditions to make (p ∧ ¬q) true."
      ]
    },
    {
      "cell_type": "code",
      "execution_count": null,
      "metadata": {
        "colab": {
          "base_uri": "https://localhost:8080/"
        },
        "id": "LSOJxTuKvLP6",
        "outputId": "097e26ad-21c1-42ce-f222-130013b7b79c"
      },
      "outputs": [
        {
          "name": "stdout",
          "output_type": "stream",
          "text": [
            "Partial interpretation functions list for (p ∨ ¬q ∨ r):\n",
            "[{'p': True}, {'q': False}, {'r': True}]\n",
            "\n",
            "Partial interpretation functions list for (p ∧ ¬q):\n",
            "[{'p': True, 'q': False}]\n",
            "\n"
          ]
        }
      ],
      "source": [
        "# partial interpretation functions list for (p ∨ ¬q ∨ r)\n",
        "piflist1 = []\n",
        "piflist1.append(PartialInterpretationFunc({'p': True}))\n",
        "piflist1.append(PartialInterpretationFunc({'q': False}))\n",
        "piflist1.append(PartialInterpretationFunc({'r': True}))\n",
        "\n",
        "print(f\"Partial interpretation functions list for (p ∨ ¬q ∨ r):\\n{piflist1}\\n\")\n",
        "\n",
        "# partial interpretation functions list for (p ∧ ¬q)\n",
        "piflist2 = [PartialInterpretationFunc({'p': True, 'q': False})]\n",
        "\n",
        "print(f\"Partial interpretation functions list for (p ∧ ¬q):\\n{piflist2}\\n\")"
      ]
    },
    {
      "cell_type": "markdown",
      "metadata": {
        "id": "o7s0zn8LCru-"
      },
      "source": [
        "# Instructions\n",
        "*  Complete `PLetter.build`.\n",
        "*  Check that it works properly using the formula only composed of the propositional letter p."
      ]
    },
    {
      "cell_type": "code",
      "execution_count": null,
      "metadata": {
        "colab": {
          "base_uri": "https://localhost:8080/"
        },
        "id": "LHg6FkTICwPp",
        "outputId": "82c68542-54ec-4fde-a20f-62f4dea2c85e"
      },
      "outputs": [
        {
          "name": "stdout",
          "output_type": "stream",
          "text": [
            "[{'p': True}]\n",
            "[{'p': False}]\n"
          ]
        }
      ],
      "source": [
        "p = PLetter('p')\n",
        "\n",
        "print(p.build(True))\n",
        "print(p.build(False))"
      ]
    },
    {
      "cell_type": "markdown",
      "metadata": {
        "id": "FA7E81nKCyG_"
      },
      "source": [
        "# Instructions\n",
        "*  Complete {`Neg`,`Conj`}`.build`.\n",
        "*  Instantiate (at least) five or six diverse formulas (including tautologies and contradictions) in order to check your implementation of `build`."
      ]
    },
    {
      "cell_type": "code",
      "execution_count": null,
      "metadata": {
        "colab": {
          "base_uri": "https://localhost:8080/"
        },
        "id": "pBqr1BY7Cz6K",
        "outputId": "9d7b99ea-00bb-4b25-8e31-e1eecf5aa1fd"
      },
      "outputs": [
        {
          "name": "stdout",
          "output_type": "stream",
          "text": [
            "I(p) = True: [{'p': True}]\n",
            "\n",
            "⟦(¬p)⟧ = True: [{'p': False}]\n",
            "\n",
            "⟦(p ∧ q)⟧ = True: [{'p': True, 'q': True}]\n",
            "\n",
            "⟦(p ∧ q)⟧ = False: [{'p': False}, {'q': False}]\n",
            "\n",
            "⟦(p ∧ p)⟧ = True: [{'p': True}]\n",
            "\n",
            "⟦((p ∧ q) ∧ (r ∧ q))⟧ = False: [{'p': False}, {'q': False}, {'r': False}]\n",
            "\n",
            "⟦(p ∧ (¬q))⟧ = True: [{'p': True, 'q': False}]\n",
            "\n",
            "⟦(p ∧ (¬p))⟧ = True: []\n",
            "\n",
            "⟦(p ∧ (¬(¬p)))⟧ = True: [{'p': True}]\n",
            "\n",
            "⟦(¬(p ∧ q))⟧ = True: [{'p': False}, {'q': False}]\n",
            "\n",
            "⟦((p ∧ (¬q)) ∧ (r ∧ q))⟧ = True: []\n",
            "\n",
            "\n",
            "⟦((¬(p ∧ q)) ∧ r)⟧ = False: [{'p': True, 'q': True}, {'r': False}]\n",
            "\n",
            "⟦(((((((p ∧ p) ∧ p) ∧ p) ∧ p) ∧ p) ∧ p) ∧ p)⟧ = False: [{'p': False}]\n",
            "\n",
            "⟦(((((((p ∧ p) ∧ p) ∧ p) ∧ p) ∧ p) ∧ p) ∧ p)⟧ = True: [{'p': True}]\n",
            "\n",
            "⟦((((a1 ∧ a2) ∧ a3) ∧ a4) ∧ a5)⟧ = False: [{'a1': False}, {'a2': False}, {'a3': False}, {'a4': False}, {'a5': False}]\n",
            "\n",
            "⟦((((a1 ∧ a2) ∧ a3) ∧ a4) ∧ a5)⟧ = True: [{'a1': True, 'a2': True, 'a3': True, 'a4': True, 'a5': True}]\n",
            "\n"
          ]
        }
      ],
      "source": [
        "# Instantiation of formulas\n",
        "p = PLetter('p')\n",
        "q = PLetter('q')\n",
        "r = PLetter('r')\n",
        "neg_p = Neg(p)                                          # (¬p)\n",
        "neg_q = Neg(q)                                          # (¬q)\n",
        "p_and_q = Conj(p, q)                                    # (p ∧ q)\n",
        "r_and_q = Conj(r, q)                                    # (r ∧ q)\n",
        "p_and_p = Conj(p, p)                                    # (p ∧ p) -> tautology\n",
        "p_and_q_conj_r_and_q = Conj(p_and_q, r_and_q)           # ((p ∧ q) ∧ (r ∧ q))\n",
        "p_and_neg_q = Conj(p, neg_q)                            # (p ∧ ¬q)\n",
        "p_and_neg_p = Conj(p, neg_p)                            # (p ∧ ¬p) -> contradiction\n",
        "p_and_neg_neg_p = Conj(p, Neg(Neg(p)))                  # (p ∧ ¬(¬p)) -> tautology\n",
        "neg_p_and_q = Neg(Conj(p, q))                           # (¬(p ∧ q))\n",
        "p_and_neg_q_conj_r_and_q = Conj(p_and_neg_q, r_and_q)   # ((p ∧ ¬q) ∧ (r ∧ q)) -> contradiction\n",
        "\n",
        "\n",
        "# Test \n",
        "print(f\"I({p}) = True: {p.build(True)}\\n\")\n",
        "print(f\"⟦{neg_p}⟧ = True: {neg_p.build(True)}\\n\")                                             # (¬p)\n",
        "print(f\"⟦{p_and_q}⟧ = True: {p_and_q.build(True)}\\n\")                                         # (p ∧ q)\n",
        "print(f\"⟦{p_and_q}⟧ = False: {p_and_q.build(False)}\\n\")                                       # (p ∧ q)\n",
        "print(f\"⟦{p_and_p}⟧ = True: {p_and_p.build(True)}\\n\")                                         # (p ∧ p) -> tautology\n",
        "print(f\"⟦{p_and_q_conj_r_and_q}⟧ = False: {p_and_q_conj_r_and_q.build(False)}\\n\")             # ((p ∧ q) ∧ (r ∧ q))\n",
        "print(f\"⟦{p_and_neg_q}⟧ = True: {p_and_neg_q.build(True)}\\n\")                                 # (p ∧ ¬q)\n",
        "print(f\"⟦{p_and_neg_p}⟧ = True: {p_and_neg_p.build(True)}\\n\")                                 # (p ∧ ¬p) -> contradiction\n",
        "print(f\"⟦{p_and_neg_neg_p}⟧ = True: {p_and_neg_neg_p.build(True)}\\n\")                         # (p ∧ ¬(¬p)) -> tautology\n",
        "print(f\"⟦{neg_p_and_q}⟧ = True: {neg_p_and_q.build(True)}\\n\")                                 # (¬(p ∧ q))\n",
        "print(f\"⟦{p_and_neg_q_conj_r_and_q}⟧ = True: {p_and_neg_q_conj_r_and_q.build(True)}\\n\")       # ((p ∧ ¬q) ∧ (r ∧ q)) -> contradiction\n",
        "\n",
        "# Some extra test1\n",
        "print()\n",
        "frmla = Conj(Neg(Conj(p, q)), r)                                                             # (¬(p ∧ q)) ∧ r\n",
        "print(f\"⟦{frmla}⟧ = False: {frmla.build(False)}\\n\")\n",
        "\n",
        "# Some extra test2,3\n",
        "frmla2 = Conj(Conj(Conj(Conj(Conj(Conj(Conj(p, p), p), p), p), p), p), p)                    # p ∧ p ∧ p ∧ p ∧ p ∧ p ∧ p ∧ p (8)\n",
        "print(f\"⟦{frmla2}⟧ = False: {frmla2.build(False)}\\n\")\n",
        "print(f\"⟦{frmla2}⟧ = True: {frmla2.build(True)}\\n\")\n",
        "\n",
        "# Some extra test4,5\n",
        "a1 = PLetter('a1')\n",
        "a2 = PLetter('a2')\n",
        "a3 = PLetter('a3')\n",
        "a4 = PLetter('a4')\n",
        "a5 = PLetter('a5')\n",
        "frmla3 = Conj(Conj(Conj(Conj(a1 , a2), a3), a4), a5)                                          # Conj of 5 different variables\n",
        "print(f\"⟦{frmla3}⟧ = False: {frmla3.build(False)}\\n\")\n",
        "print(f\"⟦{frmla3}⟧ = True: {frmla3.build(True)}\\n\")"
      ]
    }
  ],
  "metadata": {
    "colab": {
      "provenance": []
    },
    "gpuClass": "standard",
    "kernelspec": {
      "display_name": "Python 3",
      "name": "python3"
    }
  },
  "nbformat": 4,
  "nbformat_minor": 0
}
