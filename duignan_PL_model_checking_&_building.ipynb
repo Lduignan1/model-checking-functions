{
  "nbformat": 4,
  "nbformat_minor": 0,
  "metadata": {
    "colab": {
      "provenance": []
    },
    "kernelspec": {
      "name": "python3",
      "display_name": "Python 3"
    },
    "gpuClass": "standard"
  },
  "cells": [
    {
      "cell_type": "markdown",
      "metadata": {
        "id": "cHzbYf3IAkXo"
      },
      "source": [
        "# Goals:\n",
        "*   First, you have to implement model *checking* functions for **Propositional Logic**, that automatically compute, for any formula and any model, the truth value of this formula in this model.\n",
        "*   Then, you have to implement model *building* functions, that compute, for any formula, which models make this formula true."
      ]
    },
    {
      "cell_type": "markdown",
      "source": [
        "# This is part of an assignment\n",
        "*   This Colab notebook contains the first part of the assignment.\n",
        "*   The assignment should be completed in group of two or three students.\n",
        "*   Students repeating the year (\"redoublant·e·s\") do not have to complete this assignment (but another one later in the semester).\n",
        "*   Your grade will depend in part on your code and in part on a short oral examination (a single examination for the whole assignment). To schedule an appointment, follow this link: https://appt.link/timothee-bernard/computational-semantics.\n",
        "*   Send me an email by Sunday **12th 23:59** to inform me of the composition of your group. By this time, your group should also have scheduled an appointment for the oral examination. Malus: -2 per day of delay.\n",
        "*   Send me your work (both parts) completed by Sunday  **19th February 23:59**. Malus: -1 per day of delay.\n",
        "*   Make sure that your code is clear and well commented. **The quality of your code will be taken into account.**\n",
        "*   **Read all comments and follow all instructions very carefully.** If you do not understand one of them, ask me. Also, remember that everything (each method, its argument·s, etc.) is here for a reason.\n",
        "*   Any source of inspiration (e.g. the internet, some other student) should be properly acknowledged."
      ],
      "metadata": {
        "id": "txmEBOzElCWG"
      }
    },
    {
      "cell_type": "markdown",
      "source": [
        "# How to work efficiently with Colab on this project:\n",
        "*   Copy this notebook (File>Save a copy in Drive).\n",
        "*   In class, your group can be more efficient if each member works on their own copy: everyone can try to find a solution in parallel before sharing what works with the others.\n",
        "*   At some point (when most of the problems have been solved), you might want to use a single Colab notebook for the whole group. You can share your copy with your collaborators using the sharing menu."
      ],
      "metadata": {
        "id": "JwmsNN-jwKMf"
      }
    },
    {
      "cell_type": "markdown",
      "source": [
        "# How to send me your work:\n",
        "*   Use the sharing menu (top-right of the window) to share it with timothee.m.r.bernard@gmail.com.\n",
        "(I don't check this address very often, so, for questions, please use Moodle or my u-paris.fr address.)\n",
        "*   You are asked to share me both parts of the assignment. (So, two notebooks in total for your group.)\n",
        "*   Review your code before sharing it with me, in order to check that is is clear, concise and well commented."
      ],
      "metadata": {
        "id": "ch5msnyAwMfA"
      }
    },
    {
      "cell_type": "markdown",
      "source": [
        "# Remark:\n",
        "*  The code you will find here uses tabulations for indentation. Please be aware of the fact that Python might not behave correctly if you use a mix of tabulations and spaces for indentation. There is a way to set Colab's settings so that the type of characters used for indentation is shown.\n",
        "*  Make sure that what you print is self-explanatory (one should not have to look at the code to understand what is printed). This advice is relevant to all assignments, for other courses as well as this one."
      ],
      "metadata": {
        "id": "Fwg1w-JJvzJA"
      }
    },
    {
      "cell_type": "code",
      "metadata": {
        "id": "iyt7crDHAbcS"
      },
      "source": [
        "# Checks that `o` is an instance of `t` (ex: integer, list). Produces a clear error message otherwise.\n",
        "# This function is not essential but can help a lot for debugging.\n",
        "def check_type(o, t, name=None):\n",
        "\tif(name is None): name = \"[no name]\"\n",
        "\tassert isinstance(o, t), (f\"Type problem: variable {name} (type: {type(o)}; value: {o}) is not an instance of {t}\")"
      ],
      "execution_count": null,
      "outputs": []
    },
    {
      "cell_type": "code",
      "metadata": {
        "id": "Zm0uCqezAr7x"
      },
      "source": [
        "# Example 1:\n",
        "check_type([1,2,3], list) # Works fine because [1,2,3] is indeed a list."
      ],
      "execution_count": null,
      "outputs": []
    },
    {
      "cell_type": "code",
      "metadata": {
        "id": "vldi91e7AvZe",
        "colab": {
          "base_uri": "https://localhost:8080/",
          "height": 269
        },
        "outputId": "13b90e01-8647-4a72-8187-8def6dca487d"
      },
      "source": [
        "# Example 2:\n",
        "check_type(1, list) # An AssertionError exception is raised because 1 is not a list."
      ],
      "execution_count": null,
      "outputs": [
        {
          "output_type": "error",
          "ename": "AssertionError",
          "evalue": "ignored",
          "traceback": [
            "\u001b[0;31m---------------------------------------------------------------------------\u001b[0m",
            "\u001b[0;31mAssertionError\u001b[0m                            Traceback (most recent call last)",
            "\u001b[0;32m<ipython-input-5-99058d5aad05>\u001b[0m in \u001b[0;36m<module>\u001b[0;34m\u001b[0m\n\u001b[1;32m      1\u001b[0m \u001b[0;31m# Example 2:\u001b[0m\u001b[0;34m\u001b[0m\u001b[0;34m\u001b[0m\u001b[0;34m\u001b[0m\u001b[0m\n\u001b[0;32m----> 2\u001b[0;31m \u001b[0mcheck_type\u001b[0m\u001b[0;34m(\u001b[0m\u001b[0;36m1\u001b[0m\u001b[0;34m,\u001b[0m \u001b[0mlist\u001b[0m\u001b[0;34m)\u001b[0m \u001b[0;31m# An AssertionError exception is raised because 1 is not a list.\u001b[0m\u001b[0;34m\u001b[0m\u001b[0;34m\u001b[0m\u001b[0m\n\u001b[0m",
            "\u001b[0;32m<ipython-input-3-00ba6ea7bfc3>\u001b[0m in \u001b[0;36mcheck_type\u001b[0;34m(o, t, name)\u001b[0m\n\u001b[1;32m      3\u001b[0m \u001b[0;32mdef\u001b[0m \u001b[0mcheck_type\u001b[0m\u001b[0;34m(\u001b[0m\u001b[0mo\u001b[0m\u001b[0;34m,\u001b[0m \u001b[0mt\u001b[0m\u001b[0;34m,\u001b[0m \u001b[0mname\u001b[0m\u001b[0;34m=\u001b[0m\u001b[0;32mNone\u001b[0m\u001b[0;34m)\u001b[0m\u001b[0;34m:\u001b[0m\u001b[0;34m\u001b[0m\u001b[0;34m\u001b[0m\u001b[0m\n\u001b[1;32m      4\u001b[0m         \u001b[0;32mif\u001b[0m\u001b[0;34m(\u001b[0m\u001b[0mname\u001b[0m \u001b[0;32mis\u001b[0m \u001b[0;32mNone\u001b[0m\u001b[0;34m)\u001b[0m\u001b[0;34m:\u001b[0m \u001b[0mname\u001b[0m \u001b[0;34m=\u001b[0m \u001b[0;34m\"[no name]\"\u001b[0m\u001b[0;34m\u001b[0m\u001b[0;34m\u001b[0m\u001b[0m\n\u001b[0;32m----> 5\u001b[0;31m         \u001b[0;32massert\u001b[0m \u001b[0misinstance\u001b[0m\u001b[0;34m(\u001b[0m\u001b[0mo\u001b[0m\u001b[0;34m,\u001b[0m \u001b[0mt\u001b[0m\u001b[0;34m)\u001b[0m\u001b[0;34m,\u001b[0m \u001b[0;34m(\u001b[0m\u001b[0;34mf\"Type problem: variable {name} (type: {type(o)}; value: {o}) is not an instance of {t}\"\u001b[0m\u001b[0;34m)\u001b[0m\u001b[0;34m\u001b[0m\u001b[0;34m\u001b[0m\u001b[0m\n\u001b[0m",
            "\u001b[0;31mAssertionError\u001b[0m: Type problem: variable [no name] (type: <class 'int'>; value: 1) is not an instance of <class 'list'>"
          ]
        }
      ]
    },
    {
      "cell_type": "markdown",
      "metadata": {
        "id": "o9xR9BHHDCXV"
      },
      "source": [
        "## 1) Model checking"
      ]
    },
    {
      "cell_type": "markdown",
      "metadata": {
        "id": "3TTTWADTBQCU"
      },
      "source": [
        "*   In Propositional Logic, a model is simply an interpretation function.\n",
        "*   An interpretation function is a function that sends each propositional letter to a boolean value.\n",
        "*   In this TP, strings are used to represent propositional letters.\n",
        "*   Remark: The properties and methods of a class that have a name starting with an underscore (\"_\"; ex: `self._true_ps`) are not meant to be accessed directly outside of this class, but only within the class itself (in other words, they are *private*). While Python will not say anything special if you do not respect this convention, you definitely should.\n"
      ]
    },
    {
      "cell_type": "code",
      "metadata": {
        "id": "F2KPsMZoA6h_"
      },
      "source": [
        "# For interpretation functions.\n",
        "class InterpretationFunc:\n",
        "\t# true_ps: set of strings\n",
        "\tdef __init__(self, true_ps):\n",
        "\t\tcheck_type(true_ps, set, \"true_ps\")\n",
        "\t\t\n",
        "\t\tself._true_ps = true_ps\n",
        "\t\n",
        "\t# Remark: __call__ can be called using the ()-notation: \"i(p)\" is translated as \"i.__call__(p)\". Use the ()-notation instead of calling __call__ explicitly.\n",
        "\t# Returns the interpretation of `p`.\n",
        "\t# p: string\n",
        "\tdef __call__(self, p):\n",
        "\t\tcheck_type(p, str, \"p\")\n",
        "\t\t#print(f\"I({p}) = {p in self._true_ps}\")\n",
        "\t\treturn p in self._true_ps\n",
        "\t\t\n",
        "\t\n",
        "\t# Returns a string representation of the object. Used to print the object in a readable way.\n",
        "\tdef __str__(self):\n",
        "\t\treturn str(self._true_ps)"
      ],
      "execution_count": null,
      "outputs": []
    },
    {
      "cell_type": "markdown",
      "metadata": {
        "id": "bLY05s0qBb45"
      },
      "source": [
        "# Instructions\n",
        "*  Instanciate `i_func`, the interpretation function that associates True to both \"p\" and \"r\" and False to any other propositional letter.\n",
        "*  Then, print the interpretation of \"p\" and \"q\" respectively."
      ]
    },
    {
      "cell_type": "code",
      "metadata": {
        "id": "3dejL-QXBXdA",
        "colab": {
          "base_uri": "https://localhost:8080/"
        },
        "outputId": "d01725ed-2d15-4282-a49e-f7b4ed45647c"
      },
      "source": [
        "# instanciating an InterpretationFunc object which takes as argument a PL alphabet\n",
        "i_func = InterpretationFunc({\"p\", \"q\"})\n",
        "\n",
        "print(i_func(\"p\")) # True because the interpretation func associates PL letter \"p\" to True\n",
        "print(i_func(\"q\")) # True for same reason regarding \"q\"\n",
        "print(i_func(\"r\")) # False because interpretation function returns False given \"r\"; not part of PL alphabet"
      ],
      "execution_count": null,
      "outputs": [
        {
          "output_type": "stream",
          "name": "stdout",
          "text": [
            "True\n",
            "True\n",
            "False\n"
          ]
        }
      ]
    },
    {
      "cell_type": "markdown",
      "metadata": {
        "id": "feWX1b1YBkK_"
      },
      "source": [
        "*  For this TP, any formula is represented by an instance of the class `Formula` (in fact, of some sub-class of `Formula`).\n",
        "*  There is one sub-class for each \"kind\" of formulas:, that is to say for each clause in the inductive definition of the language of PL."
      ]
    },
    {
      "cell_type": "code",
      "metadata": {
        "id": "-0B_nqT2Bqmq"
      },
      "source": [
        "# The general class for logical formulas.\n",
        "# This class is sub-classed below.\n",
        "class Formula:\n",
        "\tpass"
      ],
      "execution_count": null,
      "outputs": []
    },
    {
      "cell_type": "markdown",
      "metadata": {
        "id": "NhYW2jGnBvau"
      },
      "source": [
        "# Instructions\n",
        "*  `PLetter` is the sub-class corresponding to formulas composed of a single propositional letter (1st clause in the definition of the language of PL).\n",
        "*  Complete `PLetter.check`.\n",
        "*  Then, instantiate three formulas, composed of propositional letters \"p\", \"q\" and \"r\" respectively, and print their interpretation according to `i_func`.\n",
        "*  (Ignore the `build` method, which will only be useful in the second section below.)"
      ]
    },
    {
      "cell_type": "code",
      "metadata": {
        "id": "f4Lff_4OBswk"
      },
      "source": [
        "# For atomic formulas (i.e. that are composed of a single propositional letter only).\n",
        "class PLetter(Formula):\n",
        "\t# p: string\n",
        "\tdef __init__(self, p):\n",
        "\t\tcheck_type(p, str, \"p\")\n",
        "\t\t\n",
        "\t\tself._p = p\n",
        "\t\n",
        "\t# Checks whether the formula is true according to the interpretation function `i_func`.\n",
        "\t# i_func: InterpretationFunc\n",
        "\tdef check(self, i_func):\n",
        "\t\tcheck_type(i_func, InterpretationFunc, \"i_func\")\n",
        "\t\t#print(f\"I({self._p}) = {i_func(self._p)}\")\n",
        "\t\treturn i_func(self._p) \n",
        "\t\n",
        "\t# Returns the list of all (minimal) partial interpretation functions for which the valuation of the formula is the boolean value `value`.\n",
        "\t# If `value` is not specified, the default value True is used.\n",
        "\t# (If you know what an iterator is, you can return an iterator instead of a list.)\n",
        "\tdef build(self, value=True):\n",
        "\t\t#value = i_func(self._p)\n",
        "\t\tcheck_type(value, bool, \"value\")\n",
        "\t\n",
        "\t\tlist_partial_i_func = []\n",
        "\t\tlist_partial_i_func.append(PartialInterpretationFunc({self._p: value}))\n",
        "\n",
        "\t\treturn list_partial_i_func\n",
        "\t\n",
        "\t# Returns a string representation of the object. Used to print the object in a readable way.\n",
        "\tdef __str__(self):\n",
        "\t\treturn self._p"
      ],
      "execution_count": null,
      "outputs": []
    },
    {
      "cell_type": "code",
      "source": [
        "# Instantiating the propositional letters p, q, r\n",
        "formule_p = PLetter(\"p\")\n",
        "formule_q = PLetter(\"q\")\n",
        "formule_r = PLetter(\"r\")\n",
        "\n",
        "# checking truth value of a given formula and a defined interpretation funct\n",
        "print(formule_p.check(i_func)) # True\n",
        "print(formule_q.check(i_func)) # True\n",
        "print(formule_r.check(i_func)) # False"
      ],
      "metadata": {
        "id": "EoPZbYmjUYGD",
        "colab": {
          "base_uri": "https://localhost:8080/"
        },
        "outputId": "a84cc474-94fd-48de-9a87-e72a2f1754b1"
      },
      "execution_count": null,
      "outputs": [
        {
          "output_type": "stream",
          "name": "stdout",
          "text": [
            "True\n",
            "True\n",
            "False\n"
          ]
        }
      ]
    },
    {
      "cell_type": "code",
      "source": [],
      "metadata": {
        "id": "vOyNt8S5EjW-"
      },
      "execution_count": null,
      "outputs": []
    },
    {
      "cell_type": "markdown",
      "metadata": {
        "id": "vd8kcw02CIdA"
      },
      "source": [
        "# Instructions\n",
        "*  Complete `Neg.check`. Tip: Take a look again at the slide that contains the definition of valuation functions in PL.\n",
        "*  Using `Neg`, instantiate several formulas and print their interpretation according to `i_func`. (Advice: Instantiate enough formulas to check that everything works as expected.)"
      ]
    },
    {
      "cell_type": "code",
      "metadata": {
        "id": "nbt857c6CFV_"
      },
      "source": [
        "# Negation\n",
        "class Neg(Formula):\n",
        "\t# phi: Formula\n",
        "\tdef __init__(self, phi):\n",
        "\t\tcheck_type(phi, Formula, \"phi\")\n",
        "\t\tself._phi = phi;\n",
        "\t\n",
        "\t# Checks whether the formula is true according to the interpretation function `i_func`.\n",
        "\t# i_func: InterpretationFunc\n",
        "\tdef check(self, i_func):\n",
        "\t\tcheck_type(i_func, InterpretationFunc, \"i_func\")\n",
        "\t\t\n",
        "\t\t# if I(phi) = F then return T\n",
        "\t\tif (not self._phi.check(i_func)):\n",
        "\t\t\treturn True\n",
        "\n",
        "\t\t# else return false\n",
        "\t\treturn False\n",
        "\t\n",
        "\t# Returns the list of all (minimal) partial interpretation functions for which the valuation of the formula is the boolean value `value`.\n",
        "\t# If `value` is not specified, the default value True is used.\n",
        "\t# (If you know what an iterator is, you can return an iterator instead of a list.)\n",
        "\tdef build(self, value=True):\n",
        "\t\tcheck_type(value, bool, \"value\")\n",
        "\t\n",
        "\t\treturn self._phi.build(not value)\n",
        "\t\n",
        "\t# Returns a string representation of the object. Used to print the object in a readable way.\n",
        "\tdef __str__(self):\n",
        "\t\treturn f'(¬{self._phi})'"
      ],
      "execution_count": null,
      "outputs": []
    },
    {
      "cell_type": "code",
      "source": [
        "# defining ¬p formula instance\n",
        "formule_neg_p = Neg(formule_p)\n",
        "# ¬¬p\n",
        "formule_neg_neg_p = Neg(formule_neg_p)\n",
        "\n",
        "print(formule_neg_p.check(i_func)) # False because I(¬p) returns F\n",
        "print(formule_neg_neg_p.check(i_func)) # True because I(¬¬p) returns T\n",
        "\n",
        "# ¬q\n",
        "formule_neg_q = Neg(formule_q)\n",
        "# ¬¬q\n",
        "formule_neg_neg_q = Neg(formule_neg_q)\n",
        "\n",
        "print(formule_neg_q.check(i_func)) # False because I(¬q) returns F\n",
        "print(formule_neg_neg_q.check(i_func)) # True because I(¬¬q) returns T\n",
        "\n",
        "# ¬r\n",
        "formule_neg_r = Neg(formule_r)\n",
        "print(formule_neg_r.check(i_func)) # True because I(¬r) returns T"
      ],
      "metadata": {
        "id": "nEdjKv4YUWWW",
        "colab": {
          "base_uri": "https://localhost:8080/"
        },
        "outputId": "138e11c1-4084-416c-a054-8b1ff92bb651"
      },
      "execution_count": null,
      "outputs": [
        {
          "output_type": "stream",
          "name": "stdout",
          "text": [
            "False\n",
            "True\n",
            "False\n",
            "True\n",
            "True\n"
          ]
        }
      ]
    },
    {
      "cell_type": "markdown",
      "metadata": {
        "id": "dbdp25KxCR9W"
      },
      "source": [
        "# Instructions\n",
        "*  Complete `Conj.check`.\n",
        "*  Using `Conj`, instantiate several formulas and print their interpretation according to `i_func`. (Advice: Instantiate enough formulas to check that everything works as expected.)"
      ]
    },
    {
      "cell_type": "code",
      "metadata": {
        "id": "CuqtMxSsCPoe"
      },
      "source": [
        "# Conjunction\n",
        "class Conj(Formula):\n",
        "\t# phi: Formula\n",
        "\t# psi: Formula\n",
        "\tdef __init__(self, phi, psi):\n",
        "\t\tcheck_type(phi, Formula, \"phi\")\n",
        "\t\tcheck_type(psi, Formula, \"psi\")\n",
        "\t\t\n",
        "\t\tself._phi = phi;\n",
        "\t\tself._psi = psi;\n",
        "\t\n",
        "\t# Checks whether the formula is true according to the interpretation function `i_func`.\n",
        "\t# i_func: InterpretationFunc\n",
        "\tdef check(self, i_func):\n",
        "\t\tcheck_type(i_func, InterpretationFunc, \"i_func\")\n",
        "\t\t\n",
        "\t\t# if I(phi) = T and I(psi) = T then return T\n",
        "\t\tif (self._phi.check(i_func) and (self._psi.check(i_func))):\n",
        "\t\t\treturn True\n",
        "\n",
        "\t\t# else return F\n",
        "\t\treturn False\n",
        "\t\n",
        "\t# Returns the list of all (minimal) partial interpretation functions for which the valuation of the formula is the boolean value `value`.\n",
        "\t# If `value` is not specified, the default value True is used.\n",
        "\t# (If you know what an iterator is, you can return an iterator instead of a list.)\n",
        "\tdef build(self, value=True):\n",
        "\t\tcheck_type(value, bool, \"value\")\n",
        "\t\t\n",
        "\t\tpass # TODO\n",
        "\t\n",
        "\t# Returns a string representation of the object. Used to print the object in a readable way.\n",
        "\tdef __str__(self):\n",
        "\t\treturn f\"({self._phi} ∧ {self._psi})\""
      ],
      "execution_count": null,
      "outputs": []
    },
    {
      "cell_type": "code",
      "source": [
        "# p ∧ q\n",
        "formule_p_and_q = Conj(formule_p, formule_q)\n",
        "# p ∧ q ∧ r\n",
        "formule_p_and_q_and_r = Conj(formule_p_and_q, formule_r)\n",
        "# ¬(p ∧ q)\n",
        "formule_neg_p_and_q = Neg(formule_p_and_q)\n",
        "\n",
        "print(formule_p_and_q.check(i_func)) # True because I(p ∧ q) = T\n",
        "print(formule_p_and_q_and_r.check(i_func)) # False because I(p ∧ q ∧ r) = F\n",
        "print(formule_neg_p_and_q.check(i_func)) # False because I(¬(p ∧ q)) = F"
      ],
      "metadata": {
        "id": "YNtaRyiAUclv",
        "colab": {
          "base_uri": "https://localhost:8080/"
        },
        "outputId": "580e2891-5759-4f9d-d54b-a70f6315940f"
      },
      "execution_count": null,
      "outputs": [
        {
          "output_type": "stream",
          "name": "stdout",
          "text": [
            "True\n",
            "False\n",
            "False\n"
          ]
        }
      ]
    },
    {
      "cell_type": "markdown",
      "metadata": {
        "id": "Q2twbkwZC7qF"
      },
      "source": [
        "## 2) Model building"
      ]
    },
    {
      "cell_type": "markdown",
      "metadata": {
        "id": "EBbOKEm7Cfnw"
      },
      "source": [
        "*  To compute which interpretation functions (i.e. models) make true a given formula, we are going to use *partial* interpretation functions.\n",
        "*  We use a partial interpretation function to represent the conditions that are minimally *sufficient* to make a given formula true (or false). A list of such functions represents a disjunction of conditions. We use such a list to represent the *necessary and sufficient* conditions to make a given formula true (or false).\n",
        "*  Examples:\n",
        "   *  The atomic formula p is made true by any interpretation function that sends p to True. The set of all these interpretation functions is here represented as the partial interpretation function that sends p to True. (We use a list of length 1.)\n",
        "   *  Formula p ∨ ¬q is made true by any function that sends p to True and by any function that sends q to False. The set of all these functions is here represented with two partial functions: one that sends p to True and one that q to False. (We use a list of length 2.)\n",
        "   *  Formula p ∧ ¬q is made true by any function that sends p to True and q to False. The set of all these functions is here represented as the partial interpretation function that sends p to True and q to False. (We use a list of size 1.)\n",
        "   *  Formula p ∧ ¬p is made true by no function. The empty set is here represented without any partial interpretation function. (We use a list of size 0.)\n",
        "   *  Formula p ∨ ¬p is made true by all interpretation functions, but equivalently, one can say that it is made true by any function that sends p to True and by any function that sends p to False. The set of all these functions is here represented with two partial functions: one that sends p to True and one that p to False. (We use a list of length 2.)\n",
        "*  A partial interpretation function can be instantiated\n",
        "   *  either directly — using the constructor (i.e. the `__init__` method) — from a dictionary that associates boolean values to strings (that represents propositional letters), \n",
        "   *  or — using the `merge` method — from two compatible interpretation functions that are then merged (\"compatible\" means that they do not disagree on the interpretation of any propositional letter)."
      ]
    },
    {
      "cell_type": "code",
      "metadata": {
        "id": "R2ltwjLLCbOy"
      },
      "source": [
        "# For partial interpretation functions. They send only some propositional letters to a truth value.\n",
        "class PartialInterpretationFunc:\n",
        "\t# dic: dictionary; keys are strings, values are booleans\n",
        "\tdef __init__(self, dic):\n",
        "\t\tcheck_type(dic, dict, \"dic\")\n",
        "\t\t\n",
        "\t\tself.dic = dic\n",
        "\t\n",
        "\t# Returns the partial interpretation function obtained by merging this function with `other_func`, or None if they are incompatible.\n",
        "\t# Neither partial functions are changed, a new function is created.\n",
        "\tdef merge(self, other_func):\n",
        "\t\tcheck_type(other_func, PartialInterpretationFunc, \"other_func\")\n",
        "\t\t\n",
        "\t\tdic = dict(self.dic) # Makes a copy of `self.dic`.\n",
        "\t\tfor p, v in other_func.dic.items(): # Iterates over all (propositional letter --> truth value) pairs in `other_func`.\n",
        "\t\t\tif(self.dic.get(p, v) != v): return None # If `p` is sent to a value other than `v`.\n",
        "\t\t\tdic[p] = v\n",
        "\t\t\n",
        "\t\treturn PartialInterpretationFunc(dic)\n",
        "\t\n",
        "\t# Remark: __call__ can be called using the ()-notation: \"i(p)\" is translated as \"i.__call__(p)\".\n",
        "\t# Returns the interpretation of `p`.\n",
        "\t# x: string\n",
        "\tdef __call__(self, p):\n",
        "\t\tcheck_type(p, str, \"p\")\n",
        "\t\t\n",
        "\t\treturn self.dic[p]\n",
        "\t\n",
        "\t# Returns a string representation of the object. Used to print the object in a readable way.\n",
        "\tdef __str__(self):\n",
        "\t\treturn str(self.dic)\n",
        "\t\n",
        "\t# Returns a string representation of the object. Also used to print the object in a readable way.\n",
        "\tdef __repr__(self):\n",
        "\t\treturn str(self)"
      ],
      "execution_count": null,
      "outputs": []
    },
    {
      "cell_type": "markdown",
      "metadata": {
        "id": "fg0Jqxjau7w6"
      },
      "source": [
        "# Instructions\n",
        "*   Instantiate the list of partial interpretation functions that represents the set of all interpretation functions that sends p to `True`, or q to `False`, or r to `True` (these are the necessary and sufficient conditions to make (p ∨ ¬q ∨ r) true).\n",
        "*   Instantiate the list of partial interpretation function(s) that represents the necessary and sufficient conditions to make (p ∧ ¬q) true."
      ]
    },
    {
      "cell_type": "code",
      "metadata": {
        "id": "LSOJxTuKvLP6"
      },
      "source": [
        "# partial i_func where p is True\n",
        "partial_i_func_p_true = PartialInterpretationFunc({\"p\": True}) \n",
        "\n",
        "# partial i_func where q is False\n",
        "partial_i_func_q_false = PartialInterpretationFunc({\"q\": False})\n",
        "\n",
        "# partial i_func where r is True\n",
        "partial_i_func_r_true = PartialInterpretationFunc({\"r\": True})"
      ],
      "execution_count": null,
      "outputs": []
    },
    {
      "cell_type": "code",
      "source": [
        "# instatiating a list of partial i_funcs that represent necessary sufficient conditions to make (p ∨ ¬q ∨ r) true\n",
        "partial_func_list_1 = [partial_i_func_p_true, partial_i_func_q_false, partial_i_func_r_true]\n",
        " \n",
        "# instatiating list of partial i_funcs that represent necessary sufficient conditions to make (p ∧ ¬q) true\n",
        "partial_func_list_ = [partial_i_func_p_true, partial_i_func_q_false]"
      ],
      "metadata": {
        "id": "tyIvRdloi7Vm"
      },
      "execution_count": null,
      "outputs": []
    },
    {
      "cell_type": "markdown",
      "metadata": {
        "id": "o7s0zn8LCru-"
      },
      "source": [
        "# Instructions\n",
        "*  Complete `PLetter.build`.\n",
        "*  Check that it works properly using the formula only composed of the propositional letter p."
      ]
    },
    {
      "cell_type": "code",
      "metadata": {
        "id": "LHg6FkTICwPp",
        "colab": {
          "base_uri": "https://localhost:8080/"
        },
        "outputId": "ff59a2b3-df4c-4f2a-8ea1-38fb55f79878"
      },
      "source": [
        "print(formule_p.build(False))\n",
        "\n",
        "for func in formule_p.build():\n",
        "  print((func)) # returns partial i_func necessary to make p true"
      ],
      "execution_count": null,
      "outputs": [
        {
          "output_type": "stream",
          "name": "stdout",
          "text": [
            "[{'p': False}]\n",
            "{'p': True}\n"
          ]
        }
      ]
    },
    {
      "cell_type": "markdown",
      "metadata": {
        "id": "FA7E81nKCyG_"
      },
      "source": [
        "# Instructions\n",
        "*  Complete {`Neg`,`Conj`}`.build`.\n",
        "*  Instantiate (at least) five or six diverse formulas (including tautologies and contradictions) in order to check your implementation of `build`."
      ]
    },
    {
      "cell_type": "code",
      "metadata": {
        "id": "pBqr1BY7Cz6K",
        "colab": {
          "base_uri": "https://localhost:8080/"
        },
        "outputId": "c4965fa0-72da-42ed-919d-90371411c465"
      },
      "source": [
        "print(formule_neg_q.build(True))\n",
        "\n"
      ],
      "execution_count": null,
      "outputs": [
        {
          "output_type": "stream",
          "name": "stdout",
          "text": [
            "[{'q': False}]\n"
          ]
        }
      ]
    },
    {
      "cell_type": "code",
      "source": [],
      "metadata": {
        "id": "bziWIPjTL-r4"
      },
      "execution_count": null,
      "outputs": []
    }
  ]
}