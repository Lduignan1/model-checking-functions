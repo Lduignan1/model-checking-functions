{
  "nbformat": 4,
  "nbformat_minor": 0,
  "metadata": {
    "colab": {
      "provenance": []
    },
    "kernelspec": {
      "name": "python3",
      "display_name": "Python 3"
    },
    "gpuClass": "standard"
  },
  "cells": [
    {
      "cell_type": "markdown",
      "metadata": {
        "id": "NovkN-SVGJqw"
      },
      "source": [
        "# Goals:\n",
        "*   You have to implement model *checking* functions for **First Order Logic**, that automatically compute, for any closed formula and any model, the truth value of this formula in this model. (Having completed the model checking section of the first part of the assignment, about Propositional Logic, helps a lot with this part of the assignment.)"
      ]
    },
    {
      "cell_type": "markdown",
      "metadata": {
        "id": "maJnEwBPGTSY"
      },
      "source": [
        "# This is part of an assignment\n",
        "*   This Colab notebook contains the second (and last) part of the assignment.\n",
        "*   The assignment should be completed in group of two or three students.\n",
        "*   Students repeating the year (\"redoublant·e·s\") do not have to complete this assignment (but another one later in the semester).\n",
        "*   Your grade will depend in part on your code and in part on a short oral examination (a single examination for the whole assignment). To schedule an appointment, follow this link: https://appt.link/timothee-bernard/computational-semantics.\n",
        "*   Send me an email by Sunday **12th 23:59** to inform me of the composition of your group. By this time, your group should also have scheduled an appointment for the oral examination. Malus: -2 per day of delay.\n",
        "*   Send me your work (both parts) completed by Sunday  **19th February 23:59**. Malus: -1 per day of delay.\n",
        "*   Make sure that your code is clear and well commented. **The quality of your code will be taken into account.**\n",
        "*   **Read all comments and follow all instructions very carefully.** If you do not understand one of them, ask me. Also, remember that everything (each method, its argument·s, etc.) is here for a reason.\n",
        "*   Any source of inspiration (e.g. the internet, some other student) should be properly acknowledged."
      ]
    },
    {
      "cell_type": "markdown",
      "source": [
        "# How to work efficiently with Colab on this project:\n",
        "*   Copy this notebook (File>Save a copy in Drive).\n",
        "*   In class, your group can be more efficient if each member works on their own copy: everyone can try to find a solution in parallel before sharing what works with the others.\n",
        "*   At some point (when most of the problems have been solved), you might want to use a single Colab notebook for the whole group. You can share your copy with your collaborators using the sharing menu."
      ],
      "metadata": {
        "id": "_FjFPFxbyS3X"
      }
    },
    {
      "cell_type": "markdown",
      "source": [
        "# How to send me your work:\n",
        "*   Use the sharing menu (top-right of the window) to share it with timothee.m.r.bernard@gmail.com.\n",
        "(I don't check this address very often, so, for questions, please use Moodle or my u-paris.fr address.)\n",
        "*   You are asked to share me both parts of the assignment. (So, two notebooks in total for your group.)\n",
        "*   Review your code before sharing it with me, in order to check that is is clear, concise and well commented."
      ],
      "metadata": {
        "id": "-m8ver8vyU1L"
      }
    },
    {
      "cell_type": "markdown",
      "source": [
        "# Remark:\n",
        "*  The code you will find here uses tabulations for indentation. Please be aware of the fact that Python might not behave correctly if you use a mix of tabulations and spaces for indentation. There is a way to set Colab's settings so that the type of characters used for indentation is shown.\n",
        "*  Make sure that what you print is self-explanatory (one should not have to look at the code to understand what is printed). This advice is relevant to all assignments, for other courses as well as this one."
      ],
      "metadata": {
        "id": "QZcBBTMFv4PP"
      }
    },
    {
      "cell_type": "code",
      "metadata": {
        "id": "UnGxKvPhF-6w"
      },
      "source": [
        "# Checks that `o` is an instance of `t` (ex: integer, list).\n",
        "# Produces a clear error message otherwise.\n",
        "# This function is not essential but can help a lot for debugging.\n",
        "def check_type(o, t, name=None):\n",
        "\tif(name is None): name = \"[no name]\"\n",
        "\tassert isinstance(o, t), (f\"Type problem: variable {name} (type: {type(o)}; value: {o}) is not an instance of {t}\")"
      ],
      "execution_count": null,
      "outputs": []
    },
    {
      "cell_type": "code",
      "metadata": {
        "id": "w-DmwcdqISro"
      },
      "source": [
        "# Example 1:\n",
        "check_type([1,2,3], list) # Works fine because [1,2,3] is indeed a list."
      ],
      "execution_count": null,
      "outputs": []
    },
    {
      "cell_type": "code",
      "metadata": {
        "id": "J5sJSwtmIWQx",
        "colab": {
          "base_uri": "https://localhost:8080/",
          "height": 321
        },
        "outputId": "95363db9-379a-41c4-8aa6-da2d6bfdc556"
      },
      "source": [
        "# Example 2:\n",
        "check_type(1, list) # An AssertionError exception is raised because 1 is not a list."
      ],
      "execution_count": null,
      "outputs": [
        {
          "output_type": "error",
          "ename": "AssertionError",
          "evalue": "ignored",
          "traceback": [
            "\u001b[0;31m---------------------------------------------------------------------------\u001b[0m",
            "\u001b[0;31mAssertionError\u001b[0m                            Traceback (most recent call last)",
            "\u001b[0;32m<ipython-input-51-99058d5aad05>\u001b[0m in \u001b[0;36m<module>\u001b[0;34m\u001b[0m\n\u001b[1;32m      1\u001b[0m \u001b[0;31m# Example 2:\u001b[0m\u001b[0;34m\u001b[0m\u001b[0;34m\u001b[0m\u001b[0;34m\u001b[0m\u001b[0m\n\u001b[0;32m----> 2\u001b[0;31m \u001b[0mcheck_type\u001b[0m\u001b[0;34m(\u001b[0m\u001b[0;36m1\u001b[0m\u001b[0;34m,\u001b[0m \u001b[0mlist\u001b[0m\u001b[0;34m)\u001b[0m \u001b[0;31m# An AssertionError exception is raised because 1 is not a list.\u001b[0m\u001b[0;34m\u001b[0m\u001b[0;34m\u001b[0m\u001b[0m\n\u001b[0m",
            "\u001b[0;32m<ipython-input-49-3f83aae53a99>\u001b[0m in \u001b[0;36mcheck_type\u001b[0;34m(o, t, name)\u001b[0m\n\u001b[1;32m      4\u001b[0m \u001b[0;32mdef\u001b[0m \u001b[0mcheck_type\u001b[0m\u001b[0;34m(\u001b[0m\u001b[0mo\u001b[0m\u001b[0;34m,\u001b[0m \u001b[0mt\u001b[0m\u001b[0;34m,\u001b[0m \u001b[0mname\u001b[0m\u001b[0;34m=\u001b[0m\u001b[0;32mNone\u001b[0m\u001b[0;34m)\u001b[0m\u001b[0;34m:\u001b[0m\u001b[0;34m\u001b[0m\u001b[0;34m\u001b[0m\u001b[0m\n\u001b[1;32m      5\u001b[0m         \u001b[0;32mif\u001b[0m\u001b[0;34m(\u001b[0m\u001b[0mname\u001b[0m \u001b[0;32mis\u001b[0m \u001b[0;32mNone\u001b[0m\u001b[0;34m)\u001b[0m\u001b[0;34m:\u001b[0m \u001b[0mname\u001b[0m \u001b[0;34m=\u001b[0m \u001b[0;34m\"[no name]\"\u001b[0m\u001b[0;34m\u001b[0m\u001b[0;34m\u001b[0m\u001b[0m\n\u001b[0;32m----> 6\u001b[0;31m         \u001b[0;32massert\u001b[0m \u001b[0misinstance\u001b[0m\u001b[0;34m(\u001b[0m\u001b[0mo\u001b[0m\u001b[0;34m,\u001b[0m \u001b[0mt\u001b[0m\u001b[0;34m)\u001b[0m\u001b[0;34m,\u001b[0m \u001b[0;34m(\u001b[0m\u001b[0;34mf\"Type problem: variable {name} (type: {type(o)}; value: {o}) is not an instance of {t}\"\u001b[0m\u001b[0;34m)\u001b[0m\u001b[0;34m\u001b[0m\u001b[0;34m\u001b[0m\u001b[0m\n\u001b[0m",
            "\u001b[0;31mAssertionError\u001b[0m: Type problem: variable [no name] (type: <class 'int'>; value: 1) is not an instance of <class 'list'>"
          ]
        }
      ]
    },
    {
      "cell_type": "markdown",
      "metadata": {
        "id": "rQ8t0UB1If5e"
      },
      "source": [
        "*  Although it would be possible to represent constants, variables and predicates with a string only (ex: \"Jeanne\", \"x\", \"eat\"), we here use three different classes for these three kinds of objects so that they can be more easily distinguished from each other.\n",
        "*  The `isinstance` function can be used to determine whether a given object instantiate a given class.\n",
        "*  The properties and methods of a class that have a name starting with an underscore (\"_\"; ex: `self._true_ps`) are not meant to be accessed directly outside of this class, but only within the class itself (in other words, they are *private*). While Python will not say anything special if you do not respect this convention, you definitely should."
      ]
    },
    {
      "cell_type": "code",
      "metadata": {
        "id": "G1zhHQ2DIXsQ"
      },
      "source": [
        "# Constant\n",
        "class C:\n",
        "\t# name: string\n",
        "\tdef __init__(self, name):\n",
        "\t\tcheck_type(name, str, \"name\")\n",
        "\t\t\n",
        "\t\tself._name = name\n",
        "\t\n",
        "\t# Defines the behaviour of \"==\".\n",
        "\t# In this case: two C·s are considered equal if they have the same `_name`.\n",
        "\tdef __eq__(self, other):\n",
        "\t\treturn isinstance(other, C) and self._name == other._name\n",
        "\n",
        "\t# Required to be able to use the class in sets or dictionaries.\n",
        "\tdef __hash__(self):\n",
        "\t\treturn hash(self._name)\n",
        "\t\n",
        "\t# Returns a string representation of the object. Used to print the object in a readable way.\n",
        "\tdef __str__(self):\n",
        "\t\treturn self._name\n",
        "\t\n",
        "\t# Returns a string representation of the object. Also used to print the object in a readable way.\n",
        "\tdef __repr__(self):\n",
        "\t\treturn str(self)"
      ],
      "execution_count": null,
      "outputs": []
    },
    {
      "cell_type": "code",
      "metadata": {
        "id": "K_ODKxEhIve7"
      },
      "source": [
        "# Variable\n",
        "class V:\n",
        "\t# name: string\n",
        "\tdef __init__(self, name):\n",
        "\t\tcheck_type(name, str, \"name\")\n",
        "\t\t\n",
        "\t\tself._name = name\n",
        "\t\n",
        "\t# Defines the behaviour of \"==\".\n",
        "\t# In this case: two V·s are considered equal if they have the same `_name`.\n",
        "\tdef __eq__(self, other):\n",
        "\t\treturn isinstance(other, V) and self._name == other._name\n",
        "\t\n",
        "\t# Required to be able to use the class in sets or dictionaries.\n",
        "\tdef __hash__(self):\n",
        "\t\treturn hash(self._name)\n",
        "\t\n",
        "\t# Returns a string representation of the object. Used to print the object in a readable way.\n",
        "\tdef __str__(self):\n",
        "\t\treturn self._name\n",
        "\t\n",
        "\t# Returns a string representation of the object. Also used to print the object in a readable way in more complex case.\n",
        "\tdef __repr__(self):\n",
        "\t\treturn str(self)"
      ],
      "execution_count": null,
      "outputs": []
    },
    {
      "cell_type": "code",
      "metadata": {
        "id": "WqOjdtJEIxGC"
      },
      "source": [
        "# Predicate\n",
        "class P:\n",
        "\t# name: string\n",
        "\tdef __init__(self, name, arity):\n",
        "\t\tcheck_type(name, str, \"name\")\n",
        "\t\tcheck_type(arity, int, \"arity\")\n",
        "\t\t\n",
        "\t\tself._name = name\n",
        "\t\tself.arity = arity\n",
        "\t\n",
        "\t# Defines the behaviour of \"==\".\n",
        "\t# In this case: two P·s are considered equal if they have the same `_name` and the same `arity`.\n",
        "\tdef __eq__(self, other):\n",
        "\t\treturn isinstance(other, P) and (self._name == other._name) and (self.arity == other.arity)\n",
        "\t\n",
        "\t# Required to be able to use the class in sets or dictionaries.\n",
        "\tdef __hash__(self):\n",
        "\t\treturn hash((self._name, self.arity))\n",
        "\t\n",
        "\t# Returns a string representation of the object. Used to print the object in a readable way.\n",
        "\tdef __str__(self):\n",
        "\t\treturn self._name\n",
        "\t\n",
        "\t# Returns a string representation of the object. Also used to print the object in a readable way.\n",
        "\tdef __repr__(self):\n",
        "\t\treturn str(self)"
      ],
      "execution_count": null,
      "outputs": []
    },
    {
      "cell_type": "markdown",
      "metadata": {
        "id": "3tz_-c3KI1Cb"
      },
      "source": [
        "# Instructions\n",
        "*  Instantiate and then print a constant \"Sabine\", a variable \"x\" and a binary predicate \"eat\".\n",
        "*  Use `isinstance` to check that these objects instantiate the class you think they instantiate."
      ]
    },
    {
      "cell_type": "code",
      "metadata": {
        "id": "j4hA3SzhIyaJ",
        "colab": {
          "base_uri": "https://localhost:8080/"
        },
        "outputId": "833571fe-7796-42fc-8a7d-a7636ab38126"
      },
      "source": [
        "sabine = C(\"Sabine\")\n",
        "x = V(\"x\")\n",
        "eat = P(\"eat\", 2) # eat(x,y) : x eats y\n",
        "\n",
        "\n",
        "print(isinstance(sabine, C)) # True\n",
        "print(isinstance(x, V)) # True\n",
        "print(isinstance(eat, P)) # True"
      ],
      "execution_count": null,
      "outputs": [
        {
          "output_type": "stream",
          "name": "stdout",
          "text": [
            "True\n",
            "True\n",
            "True\n"
          ]
        }
      ]
    },
    {
      "cell_type": "markdown",
      "metadata": {
        "id": "72Uqgg6XJWU2"
      },
      "source": [
        "A model of First Order Logic consists of a domain and an interpretation function.\n",
        "*  The domain is simply a set the element of which are called \"individuals\". Here, individuals will be integers.\n",
        "*  The interpretation function sends any constant to an individual and any predicate to a tuple of individuals (see slides)."
      ]
    },
    {
      "cell_type": "code",
      "metadata": {
        "id": "Y82NuUCCJbTy"
      },
      "source": [
        "class InterpretationFunc:\n",
        "\n",
        "\t# c_dic: dictionary; keys are C·s, values are integers\n",
        "\t# p_dic: dictionary; keys are P·s, values are sets of tuples of integers\n",
        "\tdef __init__(self, c_dic, p_dic):\n",
        "\t\tself._c_dic = c_dic\n",
        "\t\tself._p_dic = p_dic\n",
        "\t\n",
        "\t# Remark: __getitem__ can be called using the []-notation: \"i[x]\" is translated as \"i.__getitem__(x)\".\n",
        "\t# Returns the interpretation of `x`.\n",
        "\t# x: either a C or a P\n",
        "\tdef __getitem__(self, x):\n",
        "\t\tif(isinstance(x, C)): return self._c_dic[x] # Raises an exception if the constant has no entry in `_c_dic`.\n",
        "\t\tif(isinstance(x, P)): return self._p_dic.get(x, set()) # Returns an empty set if the predicate has no entry in `_p_dic`.\n",
        "\t\traise TypeError\n",
        "\t\n",
        "\t# Returns the list obtained from `l` by replacing all constants by their interpretation (other elements should appear unaffected).\n",
        "\t# (Be aware that this function returns a list and not a tuple. If you need a tuple, use the `tuple` function to convert the list into one.)\n",
        "\t# l: list of C·s and V·s\n",
        "\tdef map(self, l):\n",
        "\n",
        "\t\tcheck_type(l, list, \"l\")\n",
        "\n",
        "\t\tinter_list = list()\n",
        "\t\tfor x in l:\n",
        "\t\t\tif isinstance(x, C): # checks if element x is a constant\n",
        "\t\t\t\tinter_list.append(self[x]) # add I(x) to new list\n",
        "\n",
        "\t\t\telse:\n",
        "\t\t\t\tinter_list.append(x) # else all other elements as is\n",
        "\n",
        "\t\treturn inter_list\n",
        "\n",
        "\n",
        "\t# Returns a string representation of the object. Used to print the object in a readable way.\n",
        "\tdef __str__(self):\n",
        "\t\ttmp = list(self._c_dic.items())\n",
        "\t\ttmp.extend(self._p_dic.items())\n",
        "\t\ts = ', '.join([f\"{k}: {v}\" for (k, v) in tmp])\n",
        "\t\treturn '{' + s + '}'"
      ],
      "execution_count": null,
      "outputs": []
    },
    {
      "cell_type": "markdown",
      "metadata": {
        "id": "U6mtVYM5JjFe"
      },
      "source": [
        "# Instructions\n",
        "*  Complete `InterpretationFunc.map` above.\n",
        "*  Instantiate an interpretation function `i_func` that interprets the constant \"Sabine\" as the integer 1, and predicates \"tall\" \"eat\" and \"like\" as non-empty sets. Warning: the one-tuple composed of element `x` is written as `(x,)` in Python (instead of `(x)`, which is just another way to write `x`).\n",
        "*  Print `i_func`."
      ]
    },
    {
      "cell_type": "code",
      "source": [
        "print(type({1}))\n",
        "d = {}\n",
        "\n",
        "print(type(d))"
      ],
      "metadata": {
        "colab": {
          "base_uri": "https://localhost:8080/"
        },
        "id": "xfSOqVe8fTn8",
        "outputId": "7e4527cf-4268-49b5-d0f4-23eeba97241b"
      },
      "execution_count": null,
      "outputs": [
        {
          "output_type": "stream",
          "name": "stdout",
          "text": [
            "<class 'set'>\n",
            "<class 'dict'>\n"
          ]
        }
      ]
    },
    {
      "cell_type": "code",
      "metadata": {
        "id": "T7w0KRlFJhbJ",
        "colab": {
          "base_uri": "https://localhost:8080/"
        },
        "outputId": "13970567-1abd-4893-f422-d4c15625d19d"
      },
      "source": [
        "y = V(\"y\")\n",
        "tall = P(\"tall\", 1)\n",
        "like = P(\"like\", 2)\n",
        "jamy = C(\"Jamy\")\n",
        "\n",
        "i_func = InterpretationFunc({sabine: 1, jamy: 2}, {tall: {(1,)}, eat: {(1,3)}, like: {(2,1)}})\n",
        "\n",
        "print(f\"Interpretation function: {i_func}\")"
      ],
      "execution_count": null,
      "outputs": [
        {
          "output_type": "stream",
          "name": "stdout",
          "text": [
            "Interpretation function: {Sabine: 1, Jamy: 2, tall: {(1,)}, eat: {(1, 3)}, like: {(2, 1)}}\n"
          ]
        }
      ]
    },
    {
      "cell_type": "code",
      "metadata": {
        "id": "NiusaZuSKpU4"
      },
      "source": [
        "class Model:\n",
        "\t\n",
        "\t# domain: set of integers\n",
        "\t# i_func: InterpretationFunc\n",
        "\tdef __init__(self, domain, i_func):\n",
        "\t\tcheck_type(domain, set, \"domain\")\n",
        "\t\tcheck_type(i_func, InterpretationFunc, \"i_func\")\n",
        "\t\t\n",
        "\t\tself.domain = domain\n",
        "\t\tself.i_func = i_func\n",
        "\t\n",
        "\t# Returns a string representation of the object. Used to print the object in a readable way.\n",
        "\tdef __str__(self):\n",
        "\t\treturn f'{{D={self.domain}; I={self.i_func}}}'"
      ],
      "execution_count": null,
      "outputs": []
    },
    {
      "cell_type": "markdown",
      "metadata": {
        "id": "bvLbRNJfKl2E"
      },
      "source": [
        "# Instructions\n",
        "*  Instantiate a model `model` from a finite domain and the `i_func` interpretation function defined previously.\n",
        "*  Print `model`."
      ]
    },
    {
      "cell_type": "code",
      "metadata": {
        "id": "IbVxbQgJKmVw",
        "colab": {
          "base_uri": "https://localhost:8080/"
        },
        "outputId": "52d2d7a8-320c-428c-ce5a-cd4978dc98eb"
      },
      "source": [
        "model = Model({1, 2, 3}, i_func)\n",
        "\n",
        "print(f\"model: {model}\")"
      ],
      "execution_count": null,
      "outputs": [
        {
          "output_type": "stream",
          "name": "stdout",
          "text": [
            "model: {D={1, 2, 3}; I={Sabine: 1, Jamy: 2, tall: {(1,)}, eat: {(1, 3)}, like: {(2, 1)}}}\n"
          ]
        }
      ]
    },
    {
      "cell_type": "markdown",
      "metadata": {
        "id": "F4H2_Ad2LZ0f"
      },
      "source": [
        "* \tWe here use partial variable assignment (i.e. that may not assign a value to all variables).\n",
        "* \tIn order to interpret a formula, we will start from an empty variable assignment and then expend/update it when a quantifier is encountered (see the clause for the interpretation of quantifiers in the slides)."
      ]
    },
    {
      "cell_type": "markdown",
      "metadata": {
        "id": "WiY39TDD0962"
      },
      "source": [
        "# Instructions\n",
        "*  Complete `VarAssignment.assign`.\n",
        "*  Complete `VarAssignment.map`."
      ]
    },
    {
      "cell_type": "code",
      "metadata": {
        "id": "_lv7TcRXLY6Y"
      },
      "source": [
        "# For variable assignments.\n",
        "class VarAssignment:\n",
        "\t# dic: dictionary; keys are Vs, values are integers\n",
        "\t# If `dic` is not specified, the empty dictionary ({}) is used.\n",
        "\tdef __init__(self, dic={}):\n",
        "\t\tcheck_type(dic, dict, \"dic\")\n",
        "\t\t\n",
        "\t\tself._dic = dic\n",
        "\t\n",
        "\t# Returns the variable assignment that only differ from the present one (i.e. `self`) with \"x := d\".\n",
        "\t# The present assignment is not modified and a new assignment is instantiated.\n",
        "\t# x: V\n",
        "\t# d: integer\n",
        "\tdef assign(self, x, d):\n",
        "\t\tcheck_type(x, V, \"x\")\n",
        "\t\tcheck_type(d, int, \"d\")\n",
        "\t\n",
        "\t\t#if x not in self._dic and d not in self._dic.values(): # check if variable x is not already in self._dic\n",
        "\t\tif d not in self._dic.values():\n",
        "\t\t\tnew_assign = VarAssignment(self._dic)\n",
        "\t\t\tnew_assign._dic[x] = d\n",
        "\t\t\treturn new_assign\n",
        "\t \n",
        "\t\t#return self\n",
        "\t\n",
        "\t# Returns the list obtained from `l` by replacing all variables by their assignments (other elements should appear unaffected).\n",
        "\t# (Be aware that this function returns a list and not a tuple. If you need a tuple, use the `tuple` function to convert the list into one.)\n",
        "\t# l: list\n",
        "\tdef map(self, l):\n",
        "\t\tcheck_type(l, list, \"l\")\n",
        "\t\tassign_list = list()\n",
        "\n",
        "\t\tfor x in l:\n",
        "\t\t\t# search l for variables and add the assignment of any found to assign_list\n",
        "\t\t\tif isinstance(x, V):\n",
        "\t\t\t\tif x in self._dic:\n",
        "\t\t\t\t\tassign_list.append(self._dic[x])\n",
        "\n",
        "\t\t\t# add all other elements unchanged\n",
        "\t\t\telse:\n",
        "\t\t\t\tassign_list.append(x)\n",
        "\t\t\t\t\n",
        "\t\treturn assign_list\n",
        "\t\n",
        "\t# Returns a string representation of the object. Used to print the object in a nice way.\n",
        "\tdef __str__(self):\n",
        "\t\treturn f'{self._dic}'"
      ],
      "execution_count": null,
      "outputs": []
    },
    {
      "cell_type": "markdown",
      "metadata": {
        "id": "onimMTmfL_m2"
      },
      "source": [
        "*  For this TP, a formula is represented by an instance of the class `Formula` (in fact, of some sub-class of `Formula`).\n",
        "*  There is one sub-class for each \"kind\" of formulas, that is to say for each clause in the inductive definition of the language of FOL."
      ]
    },
    {
      "cell_type": "code",
      "metadata": {
        "id": "ud96YJ-VLuQy"
      },
      "source": [
        "# The general class for logical formulas.\n",
        "# This class is sub-classed below.\n",
        "class Formula:\n",
        "\t# Checks whether the formula is true according to the model `m`.\n",
        "\t# The use of this method requires that the formula be closed.\n",
        "\t# This method does almost nothing by itself. All the work is done by the `check` method defined for each kind of formulas (sub-classes of `Formula`).\n",
        "\t# m: Model\n",
        "\tdef check_closed(self, m):\n",
        "\t\tcheck_type(m, Model, \"m\")\n",
        "\t\t\n",
        "\t\tf = VarAssignment({}) # Empty partial variable assignment.\n",
        "\t\treturn self.check(m, f)"
      ],
      "execution_count": null,
      "outputs": []
    },
    {
      "cell_type": "markdown",
      "metadata": {
        "id": "goAz4RWIMmmu"
      },
      "source": [
        "# Instructions\n",
        "*  `PredApp` is the sub-class corresponding to formulas composed of a single predicate with all of its arguments (1st clause in the definition of the language of FOL).\n",
        "*  Complete `PredApp.check`. (The slide about the interpretation of FOL formulas contains all the information you need.)\n",
        "*  Then, instantiate three formulas (closed or not), using `PredApp` and print  their interpretation according in `model` for some variable assignment (that you have to instantiate)."
      ]
    },
    {
      "cell_type": "code",
      "metadata": {
        "id": "IamyUsHWL19b"
      },
      "source": [
        "# Predicate application\n",
        "class PredApp(Formula):\n",
        "\t# pred: P\n",
        "\t# args: list of V·s and C·s\n",
        "\tdef __init__(self, pred, args):\n",
        "\t\tcheck_type(pred, P, \"pred\")\n",
        "\t\tassert (pred.arity == len(args)), f\"{pred.arity} argument·s expected but {len(args)} given.\"\n",
        "\t\tcheck_type(args, list, \"args\")\n",
        "\t\t\n",
        "\t\tself._pred = pred\n",
        "\t\tself._args = args\n",
        "\t\n",
        "\t# Checks whether the formula is true according to the model `m` and the variable assignment `f`.\n",
        "\t# m: Model\n",
        "\t# f: VarAssignment\n",
        "\tdef check(self, m, f):\n",
        "\t\tcheck_type(m, Model, \"m\")\n",
        "\t\tcheck_type(f, VarAssignment, \"f\")\n",
        "\t\t#print(m.i_func[self._pred])\n",
        "\t\t\n",
        "\t\t# create list that replaces all variables in the args list with an individual of the domain according to its variable assignment\n",
        "\t\t# i.e. f[x := d](x) = d\n",
        "\t\t#mappings = tuple(f.map(self._args))\n",
        "\t\tc_mappings = m.i_func.map(self._args) # replacing constants with I(c) (i.e. integers member of the domain)\n",
        "\t\tv_mappings = tuple(f.map(c_mappings)) # replacing variables with f[x := d](x)\n",
        "\t\t\n",
        "\t\t#print(f\"I(P) = {m.i_func[self._pred]} type = {type(m.i_func[self._pred])}\")\n",
        "\t\t#print(f\"mappings = {v_mappings}\")\n",
        "\t\t# return True if the tuple (t1, t2...tn) is a member of I(P)\n",
        "\t\tif v_mappings in m.i_func[self._pred]:\n",
        "\t\t\treturn True\n",
        "\n",
        "\t\treturn False\n",
        "\n",
        "\n",
        "\n",
        "\t# Returns a string representation of the object. Used to print the object in a readable way.\n",
        "\tdef __str__(self):\n",
        "\t\treturn f\"{self._pred}({','.join([str(x) for x in self._args])})\""
      ],
      "execution_count": null,
      "outputs": []
    },
    {
      "cell_type": "code",
      "source": [
        "i_func = InterpretationFunc({sabine: 1, jamy: 2}, {tall: {(1,)}, eat: {(1,3)}, like: {(1,2)}})\n",
        "model = Model({1, 2, 3}, i_func)\n",
        "var_assign = VarAssignment({x: 1, y: 2})\n",
        "\n",
        "print(f\"i_func: {i_func}\\n\")\n",
        "print(f\"model: {model}\\n\")\n",
        "print(f\"variable assignment: {var_assign}\")\n",
        "print(\"-----------------------------------------------------------------------\\n\")\n",
        "\n",
        "x_is_tall = PredApp(tall, [x]) # ¬tall(x)\n",
        "print(f\"⟦{x_is_tall}⟧M,f = {x_is_tall.check(model, var_assign)}\\n\") # True\n",
        "\n",
        "jamy_is_tall = PredApp(tall, [jamy])\n",
        "print(f\"⟦{jamy_is_tall}⟧M,f = {jamy_is_tall.check(model, var_assign)}\\n\") # False\n",
        "\n",
        "x_likes_y = PredApp(like, [x, y])\n",
        "print(f\"⟦{x_likes_y}⟧M,f = {x_likes_y.check(model, var_assign)}\\n\") # True\n",
        "\n",
        "sabine_is_tall = PredApp(tall, [sabine])\n",
        "print(f\"⟦{sabine_is_tall}⟧M,f = {sabine_is_tall.check(model, var_assign)}\\n\") #True"
      ],
      "metadata": {
        "colab": {
          "base_uri": "https://localhost:8080/"
        },
        "id": "ry3BaMBU9qs-",
        "outputId": "32a85f5f-b066-41c9-96f7-d5d12d896969"
      },
      "execution_count": null,
      "outputs": [
        {
          "output_type": "stream",
          "name": "stdout",
          "text": [
            "i_func: {Sabine: 1, Jamy: 2, tall: {(1,)}, eat: {(1, 3)}, like: {(1, 2)}}\n",
            "\n",
            "model: {D={1, 2, 3}; I={Sabine: 1, Jamy: 2, tall: {(1,)}, eat: {(1, 3)}, like: {(1, 2)}}}\n",
            "\n",
            "variable assignment: {x: 1, y: 2}\n",
            "-----------------------------------------------------------------------\n",
            "\n",
            "⟦tall(x)⟧M,f = True\n",
            "\n",
            "⟦tall(Jamy)⟧M,f = False\n",
            "\n",
            "⟦like(x,y)⟧M,f = True\n",
            "\n",
            "⟦tall(Sabine)⟧M,f = True\n",
            "\n"
          ]
        }
      ]
    },
    {
      "cell_type": "markdown",
      "metadata": {
        "id": "KEOO3_5YNj0M"
      },
      "source": [
        "# Instructions\n",
        "*  Write `Neg`, a sub-class of `Formula`, for negation.\n",
        "*  This class must possess, in addition to a constructor (`__init__`), a `check` method and a `__str__` one (see `PredApp`; you can use the ¬ symbol in `__str__`).\n",
        "*  (The slide about the syntax of FOL and the one about its semantics contain all the information you need.)\n",
        "*  Use `check_type` at the beginning of each method in order to check the type of each argument.\n",
        "*  Instantiate several formulas using `Neg`, display these formulas and there value in some model for some variable assignment."
      ]
    },
    {
      "cell_type": "code",
      "source": [
        "# Negation\n",
        "class Neg(Formula):\n",
        "  # phi: Formula\n",
        "\tdef __init__(self, phi):\n",
        "\t\tcheck_type(phi, Formula, \"phi\")\n",
        "\t\tself._phi = phi\n",
        "\t\n",
        "\t\n",
        "\t# Checks whether the formula is true according to the model `m` and the variable assignment `f`.\n",
        "\t# m: Model\n",
        "  # f: VarAssignment\n",
        "\tdef check(self, m, f):\n",
        "\t\tcheck_type(m, Model, \"m\")\n",
        "\t\tcheck_type(f, VarAssignment, \"f\")\n",
        "\n",
        "\t\t\n",
        "\t\t# return True if the formula is False and False otherwise\n",
        "\t\treturn not self._phi.check(m, f)\n",
        "\t\n",
        "\t# Returns a string representation of the object. Used to print the object in a readable way.\n",
        "\tdef __str__(self):\n",
        "\t\treturn f'(¬{self._phi})'"
      ],
      "metadata": {
        "id": "Cn3tAergHzkL"
      },
      "execution_count": null,
      "outputs": []
    },
    {
      "cell_type": "code",
      "source": [
        "i_func = InterpretationFunc({sabine: 1, jamy: 2}, {tall: {(1,)}, eat: {(1,3)}, like: {(1,2)}})\n",
        "model = Model({1, 2, 3}, i_func)\n",
        "var_assign = VarAssignment({x: 1, y: 2})\n",
        "\n",
        "print(f\"i_func: {i_func}\\n\")\n",
        "print(f\"model: {model}\\n\")\n",
        "print(f\"variable assignment: {var_assign}\")\n",
        "print(\"-----------------------------------------------------------------------\\n\")\n",
        "\n",
        "neg_x_is_tall = Neg(PredApp(tall, [x])) # ¬tall(x)\n",
        "print(f\"⟦{neg_x_is_tall}⟧M,f = {neg_x_is_tall.check(model, var_assign)}\\n\") # False\n",
        "\n",
        "neg_jamy_is_tall = Neg(PredApp(tall, [jamy]))\n",
        "print(f\"⟦{neg_jamy_is_tall}⟧M,f = {neg_jamy_is_tall.check(model, var_assign)}\\n\") # True\n",
        "\n",
        "neg_x_likes_y = Neg(PredApp(like, [x, y]))\n",
        "print(f\"⟦{neg_x_likes_y}⟧M,f = {neg_x_likes_y.check(model, var_assign)}\\n\") # False"
      ],
      "metadata": {
        "colab": {
          "base_uri": "https://localhost:8080/"
        },
        "id": "32FWG5SlmNhs",
        "outputId": "a11fd791-93ee-4087-ddbf-6b88c6954d46"
      },
      "execution_count": null,
      "outputs": [
        {
          "output_type": "stream",
          "name": "stdout",
          "text": [
            "i_func: {Sabine: 1, Jamy: 2, tall: {(1,)}, eat: {(1, 3)}, like: {(1, 2)}}\n",
            "\n",
            "model: {D={1, 2, 3}; I={Sabine: 1, Jamy: 2, tall: {(1,)}, eat: {(1, 3)}, like: {(1, 2)}}}\n",
            "\n",
            "variable assignment: {x: 1, y: 2}\n",
            "-----------------------------------------------------------------------\n",
            "\n",
            "⟦(¬tall(x))⟧M,f = False\n",
            "\n",
            "⟦(¬tall(Jamy))⟧M,f = True\n",
            "\n",
            "⟦(¬like(x,y))⟧M,f = False\n",
            "\n"
          ]
        }
      ]
    },
    {
      "cell_type": "markdown",
      "metadata": {
        "id": "9uX9Zej0OaQ2"
      },
      "source": [
        "# Instructions\n",
        "*  Same instructions for `Ex`, a sub-class for existential quantification.\n",
        "*  (You can use the ∃ symbol in `__str__`.)"
      ]
    },
    {
      "cell_type": "code",
      "metadata": {
        "id": "e5hjOINaOi6r"
      },
      "source": [
        "import random\n",
        "# existential quantification\n",
        "class Ex(Formula):\n",
        "# phi: Formula\n",
        "\tdef __init__(self, x, phi):\n",
        "   \n",
        "\t\tcheck_type(x, V, \"x\")\n",
        "\t\tcheck_type(phi, Formula, \"phi\")\n",
        "  \n",
        "\t\tself._x = x\n",
        "\t\tself._phi = phi \n",
        "\t# Checks whether the formula is true according to the model `m` and the variable assignment `f`.\n",
        "\t# m: Model\n",
        "\t# f: VarAssignment\n",
        "\tdef check(self, m, f):\n",
        "\t\tcheck_type(m, Model, \"m\")\n",
        "\t\tcheck_type(f, VarAssignment, \"f\")\n",
        "\n",
        "\t\t#print(f\"domain = {m.domain}\")\n",
        "\t\t#new_var_assign = VarAssignment({})\t\n",
        "\n",
        "\t\tfor d in m.domain:\n",
        "\t\t\t#print(f\"d = {d}\")\n",
        "\t\t\t#var_assign_x_to_d = f.assign(self._x, d)\n",
        "\t\t\tnew_f = f.assign(self._x, d) # update var assignment\n",
        "      # if there exists some d in the domain of the model such that the interpretation of the formula phi according to the model `m`\n",
        "      # and variable assignment f[x := d] return True\n",
        "\t\t\tprint(f\"VarAssign: {f}\")\n",
        "\t\t\tif self._phi.check(m, f):\n",
        "\t\t\t\treturn True\n",
        "\n",
        "    # otherwise return False\n",
        "\t\treturn False\n",
        "\n",
        "\t# Returns a string representation of the object. Used to print the object in a readable way.\n",
        "\tdef __str__(self):\n",
        "\t\treturn f'(∃{self._x}. {self._phi})'"
      ],
      "execution_count": null,
      "outputs": []
    },
    {
      "cell_type": "code",
      "source": [
        "tup1 = (1,)\n",
        "tup2 = (1,)\n",
        "\n",
        "set1 = {(1,)}\n",
        "\n",
        "set1\n",
        "\n",
        "var_assign = VarAssignment()\n",
        "var_assign.assign(x, 1)\n",
        "print(var_assign)"
      ],
      "metadata": {
        "colab": {
          "base_uri": "https://localhost:8080/"
        },
        "id": "SJWlGuRTKCnM",
        "outputId": "6b0e2bbd-2e5d-4f18-c17a-c8c6fff6b1ec"
      },
      "execution_count": null,
      "outputs": [
        {
          "output_type": "stream",
          "name": "stdout",
          "text": [
            "{x: 1}\n"
          ]
        }
      ]
    },
    {
      "cell_type": "code",
      "source": [
        "i_func = InterpretationFunc({sabine: 1, jamy: 2}, {tall: {(1,)}, eat: {(1,3)}, like: {(1,2)}})\n",
        "model = Model({1, 2, 3}, i_func)\n",
        "empty_var_assign = VarAssignment({})#VarAssignment({x: 1})\n",
        "\n",
        "print(f\"i_func: {i_func}\\n\")\n",
        "print(f\"model: {model}\\n\")\n",
        "print(f\"variable assignment: {empty_var_assign}\")\n",
        "print(\"-----------------------------------------------------------------------\\n\")\n",
        "\n",
        "exists_x_x_tall = Ex(x, x_is_tall) # (∃x. tall(x))\n",
        "print(f\"⟦{exists_x_x_tall}⟧M,f = {exists_x_x_tall.check(model, empty_var_assign)}\\n\")\n",
        "\n",
        "exists_x_x_likes_y = Ex(x, x_likes_y)\n",
        "print(f\"⟦{exists_x_x_likes_y}⟧M,f = {exists_x_x_likes_y.check(model, empty_var_assign)}\\n\")\n",
        "\n",
        "exists_x_x_likes_x = Ex(x, PredApp(like, [x,x]))\n",
        "print(f\"⟦{exists_x_x_likes_x}⟧M,f = {exists_x_x_likes_x.check(model, empty_var_assign)}\\n\")\n",
        "\n",
        "exists_x_exists_y_x_likes_y = Ex(y, exists_x_x_likes_y)\n",
        "print(f\"⟦{exists_x_exists_y_x_likes_y}⟧M,f = {exists_x_exists_y_x_likes_y.check(model, empty_var_assign)}\")\n",
        "\n",
        "#print(exists_x_tall.check(model, var_assign_x))\n",
        "#print(exists_y_tall.check(model, var_assign_y))"
      ],
      "metadata": {
        "colab": {
          "base_uri": "https://localhost:8080/"
        },
        "id": "iMf4Eh3YT-gI",
        "outputId": "588af9c4-e46f-44ea-9a63-2695d22b5ef5"
      },
      "execution_count": null,
      "outputs": [
        {
          "output_type": "stream",
          "name": "stdout",
          "text": [
            "i_func: {Sabine: 1, Jamy: 2, tall: {(1,)}, eat: {(1, 3)}, like: {(1, 2)}}\n",
            "\n",
            "model: {D={1, 2, 3}; I={Sabine: 1, Jamy: 2, tall: {(1,)}, eat: {(1, 3)}, like: {(1, 2)}}}\n",
            "\n",
            "variable assignment: {}\n",
            "-----------------------------------------------------------------------\n",
            "\n",
            "VarAssign: {x: 1}\n",
            "⟦(∃x. tall(x))⟧M,f = True\n",
            "\n",
            "VarAssign: {x: 1}\n",
            "VarAssign: {x: 2}\n",
            "VarAssign: {x: 3}\n",
            "⟦(∃x. like(x,y))⟧M,f = False\n",
            "\n",
            "VarAssign: {x: 1}\n",
            "VarAssign: {x: 2}\n",
            "VarAssign: {x: 3}\n",
            "⟦(∃x. like(x,x))⟧M,f = False\n",
            "\n",
            "VarAssign: {x: 3, y: 1}\n",
            "VarAssign: {x: 3, y: 1}\n",
            "VarAssign: {x: 2, y: 1}\n",
            "VarAssign: {x: 3, y: 1}\n",
            "VarAssign: {x: 3, y: 2}\n",
            "VarAssign: {x: 1, y: 2}\n",
            "⟦(∃y. (∃x. like(x,y)))⟧M,f = True\n"
          ]
        }
      ]
    },
    {
      "cell_type": "markdown",
      "metadata": {
        "id": "U_XYwGM2OlD4"
      },
      "source": [
        "# Instructions\n",
        "*  Same instructions for `Conj`, a sub-class for conjunction.\n",
        "*  (You can use the ∧ symbol in `__str__`)"
      ]
    },
    {
      "cell_type": "code",
      "metadata": {
        "id": "R9w6TS_JOpgj"
      },
      "source": [
        "# conjunction\n",
        "class Conj(Formula):\n",
        "\n",
        "  # phi: Formula\n",
        "  # psi: Formula\n",
        "\tdef __init__(self, phi, psi):\n",
        "\t\tcheck_type(phi, Formula, \"phi\")\n",
        "\t\tcheck_type(psi, Formula, \"psi\")\n",
        "\t\t\n",
        "\t\tself._phi = phi\n",
        "\t\tself._psi = psi\n",
        "\n",
        "  # Checks whether the formula is true according to the model `m` and the variable assignment `f`.\n",
        "\t# m: Model\n",
        "\t# f: VarAssignment\n",
        "\n",
        "\tdef check(self, m, f):\n",
        "\t\tcheck_type(m, Model, \"m\")\n",
        "\t\tcheck_type(f, VarAssignment, \"f\")\n",
        "  \n",
        "\n",
        "\t\treturn self._phi.check(m, f) and self._psi.check(m, f)\n",
        "\n",
        "  # Returns a string representation of the object. Used to print the object in a readable way.\n",
        "\tdef __str__(self):\n",
        "\t\treturn f\"({self._phi} ∧ {self._psi})\""
      ],
      "execution_count": null,
      "outputs": []
    },
    {
      "cell_type": "code",
      "source": [
        "i_func = InterpretationFunc({sabine: 1, jamy: 2}, {tall: {(1,)}, eat: {(1,3)}, like: {(1,2)}})\n",
        "model = Model({1, 2, 3}, i_func)\n",
        "var_assign = VarAssignment({})\n",
        "\n",
        "print(f\"i_func: {i_func}\\n\")\n",
        "print(f\"model: {model}\\n\")\n",
        "print(f\"variable assignment: {var_assign}\")\n",
        "print(\"-----------------------------------------------------------------------\\n\")\n",
        "\n",
        "y_is_tall = PredApp(tall, [y])\n",
        "\n",
        "x_is_tall_and_y_is_tall = (Conj(x_is_tall, y_is_tall))\n",
        "print(f\"⟦{x_is_tall_and_y_is_tall}⟧M,f = {x_is_tall_and_y_is_tall.check(model, var_assign)}\")\n",
        "\n",
        "exists_x_is_tall_and_x_likes_y = Ex(x, Ex(y, Conj(x_is_tall, x_likes_y)))\n",
        "print(f\"⟦{exists_x_is_tall_and_x_likes_y}⟧M,f = {exists_x_is_tall_and_x_likes_y.check(model, var_assign)}\\n\") # True"
      ],
      "metadata": {
        "colab": {
          "base_uri": "https://localhost:8080/"
        },
        "id": "AMgmrzaB3F6J",
        "outputId": "8b4a4ebe-54a0-46a7-c714-72f2ef47f2f6"
      },
      "execution_count": null,
      "outputs": [
        {
          "output_type": "stream",
          "name": "stdout",
          "text": [
            "i_func: {Sabine: 1, Jamy: 2, tall: {(1,)}, eat: {(1, 3)}, like: {(1, 2)}}\n",
            "\n",
            "model: {D={1, 2, 3}; I={Sabine: 1, Jamy: 2, tall: {(1,)}, eat: {(1, 3)}, like: {(1, 2)}}}\n",
            "\n",
            "variable assignment: {}\n",
            "-----------------------------------------------------------------------\n",
            "\n",
            "⟦(tall(x) ∧ tall(y))⟧M,f = False\n",
            "VarAssign: {x: 1}\n",
            "VarAssign: {x: 1}\n",
            "VarAssign: {x: 1, y: 2}\n",
            "⟦(∃x. (∃y. (tall(x) ∧ like(x,y))))⟧M,f = True\n",
            "\n"
          ]
        }
      ]
    },
    {
      "cell_type": "markdown",
      "metadata": {
        "id": "I9nypw_aR_pu"
      },
      "source": [
        "# Instructions\n",
        "*   Test `check_closed` using several complex and diversed closed formulas."
      ]
    },
    {
      "cell_type": "code",
      "metadata": {
        "id": "zSO3_RdcSABv",
        "colab": {
          "base_uri": "https://localhost:8080/"
        },
        "outputId": "35370c3b-528f-4e02-b7b9-8884b865d3e3"
      },
      "source": [
        "# defining some closed formulas\n",
        "print(\"--Model--\")\n",
        "pasta = C(\"pasta\")\n",
        "i_func = InterpretationFunc({sabine: 1, jamy: 2}, {tall: {(1,)}, eat: {(1,3)}, like: {(1,2)}})\n",
        "model = Model({1, 2, 3}, i_func)\n",
        "print(model)\n",
        "x_likes_y = PredApp(like, [x, y]) # like(x,y)\n",
        "\n",
        "exists_y_x_likes_y = Ex(y, x_likes_y) # (∃y. like(x,y))\n",
        "exists_x_y_x_likes_y = Ex(x, exists_y_x_likes_y) # (∃x. (∃y. like(x,y)))\n",
        "x_eats_y = PredApp(eat, [x,y]) # eat(x,y)\n",
        "\n",
        "print(\"\\n--Formulas--\")\n",
        "print(exists_x_y_x_likes_y)\n",
        "\n",
        "print(exists_x_y_x_likes_y.check_closed(model)) # True\n",
        "print()\n",
        "print(Ex(x, Ex(y, Conj(x_is_tall, x_likes_y)))) # (∃x. (∃y. (tall(x) ∧ like(x,y))))\n",
        "print(Ex(x, Ex(y, Conj(x_is_tall, (x_likes_y)))).check_closed(model)) # true\n",
        "print()\n",
        "print(Ex(x, Ex(y, Conj(y_is_tall, x_likes_y)))) # (∃x. (∃y. (tall(y) ∧ like(x,y))))\n",
        "print(Ex(x, Ex(y, Conj(y_is_tall, x_likes_y))).check_closed(model)) # false\n",
        "print()\n",
        "print(Ex(x, Ex(y,x_eats_y))) # (∃x. (∃y. eat(x,y)))\n",
        "print(Ex(x, Ex(y,x_eats_y)).check_closed(model)) # true\n",
        "\n",
        "print(Ex(x, Ex(y, Conj(Neg(y_is_tall), x_likes_y)))) # (∃x. (∃y. (¬tall(y) ∧ like(x,y))))\n",
        "print(Ex(x, Ex(y, Conj(Neg(y_is_tall), x_likes_y))).check_closed(model)) # true\n",
        "\n",
        "print(Neg(Ex(x, (Ex(y,x_eats_y))))) # (¬(∃x. (∃y. eat(x,y))))\n",
        "print(Neg(Ex(x, (Ex(y,x_eats_y)))).check_closed(model)) # false\n",
        "print()\n",
        "print(Ex(x, Ex(y, Conj(x_is_tall, Neg(x_likes_y))))) # (∃x. (∃y. (tall(x) ∧ ¬like(x,y))))\n",
        "print(Ex(x, Ex(y, Conj(x_is_tall, Neg(x_likes_y)))).check_closed(model)) # false\n"
      ],
      "execution_count": null,
      "outputs": [
        {
          "output_type": "stream",
          "name": "stdout",
          "text": [
            "--Model--\n",
            "{D={1, 2, 3}; I={Sabine: 1, Jamy: 2, tall: {(1,)}, eat: {(1, 3)}, like: {(1, 2)}}}\n",
            "\n",
            "--Formulas--\n",
            "(∃x. (∃y. like(x,y)))\n",
            "VarAssign: {x: 1}\n",
            "VarAssign: {x: 1}\n",
            "VarAssign: {x: 1, y: 2}\n",
            "True\n",
            "\n",
            "(∃x. (∃y. (tall(x) ∧ like(x,y))))\n",
            "VarAssign: {x: 1}\n",
            "VarAssign: {x: 1}\n",
            "VarAssign: {x: 1, y: 2}\n",
            "True\n",
            "\n",
            "(∃x. (∃y. (tall(y) ∧ like(x,y))))\n",
            "VarAssign: {x: 1}\n",
            "VarAssign: {x: 1}\n",
            "VarAssign: {x: 1, y: 2}\n",
            "VarAssign: {x: 1, y: 3}\n",
            "VarAssign: {x: 2, y: 3}\n",
            "VarAssign: {x: 2, y: 1}\n",
            "VarAssign: {x: 2, y: 1}\n",
            "VarAssign: {x: 2, y: 3}\n",
            "VarAssign: {x: 2, y: 3}\n",
            "VarAssign: {x: 2, y: 1}\n",
            "VarAssign: {x: 2, y: 1}\n",
            "VarAssign: {x: 2, y: 3}\n",
            "False\n",
            "\n",
            "(∃x. (∃y. eat(x,y)))\n",
            "VarAssign: {x: 1}\n",
            "VarAssign: {x: 1}\n",
            "VarAssign: {x: 1, y: 2}\n",
            "VarAssign: {x: 1, y: 3}\n",
            "True\n",
            "(∃x. (∃y. ((¬tall(y)) ∧ like(x,y))))\n",
            "VarAssign: {x: 1}\n",
            "VarAssign: {x: 1}\n",
            "VarAssign: {x: 1, y: 2}\n",
            "True\n",
            "(¬(∃x. (∃y. eat(x,y))))\n",
            "VarAssign: {x: 1}\n",
            "VarAssign: {x: 1}\n",
            "VarAssign: {x: 1, y: 2}\n",
            "VarAssign: {x: 1, y: 3}\n",
            "False\n",
            "\n",
            "(∃x. (∃y. (tall(x) ∧ (¬like(x,y)))))\n",
            "VarAssign: {x: 1}\n",
            "VarAssign: {x: 1}\n",
            "True\n"
          ]
        }
      ]
    }
  ]
}